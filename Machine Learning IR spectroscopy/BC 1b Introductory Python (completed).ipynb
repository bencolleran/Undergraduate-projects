{
 "cells": [
  {
   "cell_type": "markdown",
   "metadata": {},
   "source": [
    "# 1b Introductory Python"
   ]
  },
  {
   "cell_type": "markdown",
   "metadata": {},
   "source": [
    "Much of the content of this notebook has been covered previously in S218. You should complete **either** 1a Introductory Python **or** 1b Introductory Python.\n",
    "<br>\n",
    "<br>The 1b introduction is designed for those who have completed S218 and are comfortable with writing Python, or who are comfortable with a language other than Python. The 1b notebook moves at a faster pace, but at the expense of some more detailed explanation, and so is not as suitable for beginners."
   ]
  },
  {
   "cell_type": "markdown",
   "metadata": {},
   "source": [
    "---"
   ]
  },
  {
   "cell_type": "markdown",
   "metadata": {},
   "source": [
    "### 1 Variables"
   ]
  },
  {
   "cell_type": "markdown",
   "metadata": {},
   "source": [
    "Python uses **variables** to store values.\n",
    "<br>\n",
    "<br>The function `print()` takes any value as an argument and prints it as output (Python's `stdout`)"
   ]
  },
  {
   "cell_type": "code",
   "execution_count": null,
   "metadata": {},
   "outputs": [],
   "source": [
    "a=3\n",
    "print(a)"
   ]
  },
  {
   "cell_type": "markdown",
   "metadata": {},
   "source": [
    "In Python the type of a variable does not need to be explicitly stated when declared, and it can be altered at any time. "
   ]
  },
  {
   "cell_type": "code",
   "execution_count": null,
   "metadata": {},
   "outputs": [],
   "source": [
    "a=3\n",
    "a=\"hello\"\n",
    "a=\"hi\"\n",
    "a=1.11"
   ]
  },
  {
   "cell_type": "markdown",
   "metadata": {},
   "source": [
    "**Note:**\n",
    ">Remember that a string (a block of text) must be contained in quote marks. Otherwise, it will be treated as a variable name."
   ]
  },
  {
   "cell_type": "markdown",
   "metadata": {},
   "source": [
    "✏️ What will the followig code output? Add to the comments, then run it to confirm."
   ]
  },
  {
   "cell_type": "code",
   "execution_count": null,
   "metadata": {},
   "outputs": [],
   "source": [
    "molecule = \"ethane\"\n",
    "print(\"molecule\")    #This line will output: molecule\n",
    "print(molecule)      #This line will output: ethane\n",
    "print(\"ethane\")      #This line will output: ethane\n",
    "print(ethane)        #This line will output: error"
   ]
  },
  {
   "cell_type": "markdown",
   "metadata": {},
   "source": [
    "**Note:**\n",
    "\n",
    ">The last line produces an error because there is no variable called `ethane`. Since there were no quotation marks around it, Python treats `ethane` as a variable, and tries to find the value associated with it, but cannot."
   ]
  },
  {
   "cell_type": "markdown",
   "metadata": {},
   "source": [
    "Python can assign multiple variables at once."
   ]
  },
  {
   "cell_type": "code",
   "execution_count": 4,
   "metadata": {},
   "outputs": [],
   "source": [
    "pi, e = 3.14, 2.72"
   ]
  },
  {
   "cell_type": "markdown",
   "metadata": {},
   "source": [
    "Concatenation within `print()` is performed using the `+` operator. You cannot concatenate mixed data types, so will need to use `str()` on any integers/floats to cast them into a string."
   ]
  },
  {
   "cell_type": "code",
   "execution_count": null,
   "metadata": {},
   "outputs": [],
   "source": [
    "print(\"Pi is \"+str(pi))"
   ]
  },
  {
   "cell_type": "markdown",
   "metadata": {},
   "source": [
    "✏️ Declare a variable that is your favourite element, then print out \"The best element is *your element*\"."
   ]
  },
  {
   "cell_type": "code",
   "execution_count": 2,
   "metadata": {},
   "outputs": [
    {
     "name": "stdout",
     "output_type": "stream",
     "text": [
      "The best element is Ru\n"
     ]
    }
   ],
   "source": [
    "element='Ru'\n",
    "print('The best element is '+str(element))"
   ]
  },
  {
   "cell_type": "markdown",
   "metadata": {},
   "source": [
    "✏️ In one line of code, print the value of 3 ` * ` pi + 5."
   ]
  },
  {
   "cell_type": "code",
   "execution_count": 5,
   "metadata": {},
   "outputs": [
    {
     "name": "stdout",
     "output_type": "stream",
     "text": [
      "14.42\n"
     ]
    }
   ],
   "source": [
    "print(str(3*pi+5))"
   ]
  },
  {
   "cell_type": "markdown",
   "metadata": {},
   "source": [
    "---"
   ]
  },
  {
   "cell_type": "markdown",
   "metadata": {},
   "source": [
    "### 2 Compound Data Types"
   ]
  },
  {
   "cell_type": "markdown",
   "metadata": {},
   "source": [
    "As well as integers (`3`), strings (`\"hello\"`), and floats (`1.12`), Python has some **compound** data types, which are groups of the primitive data types.\n",
    "<br>\n",
    "<br>Python's version of an array is called a **list**, and it works similarly to an array. Lists are defined inside square brackets, `[]`."
   ]
  },
  {
   "cell_type": "code",
   "execution_count": 9,
   "metadata": {},
   "outputs": [],
   "source": [
    "halogens = [\"fluorine\", \"chlorine\", \"bromine\", \"iodine\"]"
   ]
  },
  {
   "cell_type": "markdown",
   "metadata": {},
   "source": [
    "You can access each element of a list with square braces after the list name. Calling `halogens` returns the whole list, while calling `halogens[0]` returns the first member of the list, \"fluorine\".\n",
    "<br>\n",
    "<br>**Note:**\n",
    ">Lists are zero-indexed."
   ]
  },
  {
   "cell_type": "markdown",
   "metadata": {},
   "source": [
    "✏️ Create a list containing the names of the noble gases. Output the first and third entries."
   ]
  },
  {
   "cell_type": "code",
   "execution_count": 6,
   "metadata": {},
   "outputs": [
    {
     "name": "stdout",
     "output_type": "stream",
     "text": [
      "helium argon\n"
     ]
    }
   ],
   "source": [
    "NobleGases=['helium','neon','argon','krypton','xenon','radon']\n",
    "print(NobleGases[0],NobleGases[2])"
   ]
  },
  {
   "cell_type": "markdown",
   "metadata": {},
   "source": [
    "✏️ What happens if you attempt to extract a negative index from a list?"
   ]
  },
  {
   "cell_type": "code",
   "execution_count": 7,
   "metadata": {},
   "outputs": [
    {
     "name": "stdout",
     "output_type": "stream",
     "text": [
      "radon\n"
     ]
    }
   ],
   "source": [
    "print(NobleGases[-1]) #it prints the index in the opposite direction"
   ]
  },
  {
   "cell_type": "markdown",
   "metadata": {},
   "source": [
    "---"
   ]
  },
  {
   "cell_type": "markdown",
   "metadata": {},
   "source": [
    "### 3 `for` Loops and `if`-`else` Statements"
   ]
  },
  {
   "cell_type": "markdown",
   "metadata": {},
   "source": [
    "As in other languages, a `for` loop lets you iterate over a series of values.\n",
    "<br>\n",
    "<br>Where in most languages you specify a start, step, and stop, then use a count variable (`i`) to index the thing you want to iterate over, Python does this a bit more directly.\n",
    "<br>\n",
    "<br>Python uses the syntax `for i in iterable`. It directly returns, as `i`, each element in the thing you're iterating over. An iterable is anything that can be iterated over (e.g. a list)."
   ]
  },
  {
   "cell_type": "code",
   "execution_count": 10,
   "metadata": {},
   "outputs": [
    {
     "name": "stdout",
     "output_type": "stream",
     "text": [
      "fluorine\n",
      "chlorine\n",
      "bromine\n",
      "iodine\n"
     ]
    }
   ],
   "source": [
    "for element in halogens:\n",
    "    print(element)"
   ]
  },
  {
   "cell_type": "markdown",
   "metadata": {},
   "source": [
    "An `if`-`else` statement can be used to control which sections of code run. These start with the `if` keyword, and a logical test in brackets.\n",
    "<br>\n",
    "<br>A logical test returns either `True` or `False` (Boolean data types - note the capitalisation). `4 > 3` would return `True`. To test if two things are equal, you use `==`, two equals signs. (A single equals sign is already used to assign variables.)\n",
    "<br>\n",
    "<br>A colon is used to start the `True` block. This should be indented, just like when declaring a function."
   ]
  },
  {
   "cell_type": "code",
   "execution_count": 11,
   "metadata": {},
   "outputs": [
    {
     "name": "stdout",
     "output_type": "stream",
     "text": [
      "Wrong number of bonds!\n"
     ]
    }
   ],
   "source": [
    "bonds_to_carbon = 5\n",
    "if (bonds_to_carbon == 4):\n",
    "    print(\"All good\")\n",
    "else:\n",
    "    print(\"Wrong number of bonds!\")"
   ]
  },
  {
   "cell_type": "markdown",
   "metadata": {},
   "source": [
    "Multiple logical tests can be combined using `and` and `or` (c.f. `&&`/`||` in other languages)."
   ]
  },
  {
   "cell_type": "markdown",
   "metadata": {},
   "source": [
    "When working with lists, there is an extra testing operator (in addition to `==`, `<`, `>`, `!=`). The operator `in` tests whether a value appears as as item in a list.\n",
    "<br>\n",
    "<br>`value in list` tests if `value` is appears in `list`, and returns `True` or `False`\n",
    "<br>\n",
    "<br>**Note:**\n",
    ">When using the `in` test with strings, Python will only check for the exact string you have supplied. This means that searching for `\"Boron\"` and `\"BORON\"` will likely give different results."
   ]
  },
  {
   "cell_type": "markdown",
   "metadata": {},
   "source": [
    "✏️ For the list of stocked chemicals below, using `in`, write an `if`-`else` statement that prints either \"We have cyclohexane\" or \"We do not have cyclohexane\"."
   ]
  },
  {
   "cell_type": "code",
   "execution_count": 19,
   "metadata": {},
   "outputs": [
    {
     "name": "stdout",
     "output_type": "stream",
     "text": [
      "We do not have cyclohexane\n"
     ]
    }
   ],
   "source": [
    "chemicals = [\"acetone\", \"ethylacetate\", \"DCM\", \"ether\", \"DMSO\", \"ethanol\", \"acetonitrile\", \"DMF\", \"pyridine\", \"THF\"]\n",
    "\n",
    "lst=[chemical for chemical in chemicals if 'cyclohexane' in chemicals]\n",
    "if lst == []:\n",
    "    print('We do not have cyclohexane')\n",
    "else:\n",
    "    print('We have cyclohexane')"
   ]
  },
  {
   "cell_type": "markdown",
   "metadata": {},
   "source": [
    "✏️ Use `chemicals.append(\"cyclohexane\")` to append the item to the `chemicals` and re-run your `if`-`else` statement to confirm that the `True` result is now output."
   ]
  },
  {
   "cell_type": "code",
   "execution_count": 23,
   "metadata": {},
   "outputs": [
    {
     "name": "stdout",
     "output_type": "stream",
     "text": [
      "We have cyclohexane\n"
     ]
    }
   ],
   "source": [
    "chemicals = [\"acetone\", \"ethylacetate\", \"DCM\", \"ether\", \"DMSO\", \"ethanol\", \"acetonitrile\", \"DMF\", \"pyridine\", \"THF\"]\n",
    "chemicals.append('cyclohexane')\n",
    "lst=[chemical for chemical in chemicals if 'cyclohexane' in chemicals]\n",
    "if lst == []:\n",
    "    print('We do not have cyclohexane')\n",
    "else:\n",
    "    print('We have cyclohexane')"
   ]
  },
  {
   "cell_type": "markdown",
   "metadata": {},
   "source": [
    "✏️ Write some code which iterates through the halogens, and prints only those elements which start with the letters 'f' or 'i'.\n",
    "\n",
    "*Hint: strings can be treated very similarly to lists for many purposes.*"
   ]
  },
  {
   "cell_type": "code",
   "execution_count": 25,
   "metadata": {},
   "outputs": [
    {
     "name": "stdout",
     "output_type": "stream",
     "text": [
      "fluorine\n",
      "iodine\n"
     ]
    }
   ],
   "source": [
    "halogens = [\"fluorine\", \"chlorine\", \"bromine\", \"iodine\"]\n",
    "for halogen in halogens:\n",
    "    if halogen[0]=='f' or halogen[0]=='i':\n",
    "        print(halogen)"
   ]
  },
  {
   "cell_type": "markdown",
   "metadata": {},
   "source": [
    "### 4 Plotting Graphs"
   ]
  },
  {
   "cell_type": "markdown",
   "metadata": {},
   "source": [
    "Plottings graphs in Python typically makes use of the `matplotlib.pyplot` library, which can be imported in an abbreviated manner using:\n",
    "<br>\n",
    "<br>`import matplotlib.pyplot as plt`\n",
    "<br>\n",
    "<br> (For more information on libraries, see Notebook 3.)\n",
    "<br>\n",
    "<br>The `plot()` function within this library takes two inputs, a list of x values and a list of y values to produce a scatter graph. The function `show()` is passed once `plot()` and any other functions"
   ]
  },
  {
   "cell_type": "markdown",
   "metadata": {},
   "source": [
    "✏️ Import the `matplotlib.pyplot` library and use `plot()` and `show()` functions to produce a graph of the two variables provided in the lists below."
   ]
  },
  {
   "cell_type": "code",
   "execution_count": 30,
   "metadata": {},
   "outputs": [
    {
     "data": {
      "image/png": "[encoded data removed]",
      "text/plain": [
       "<Figure size 432x288 with 1 Axes>"
      ]
     },
     "metadata": {
      "needs_background": "light"
     },
     "output_type": "display_data"
    }
   ],
   "source": [
    "x=[1,2,3,4,5]\n",
    "y=[2,4,6,8,10]\n",
    "import matplotlib.pyplot as plt\n",
    "plt.plot(x,y)\n",
    "plt.show()\n"
   ]
  },
  {
   "cell_type": "markdown",
   "metadata": {},
   "source": [
    "By using some of the following additional functions before the `show()` function, more information can be used to add detail to a plot:\n",
    ">`plt.xlabel()`: Takes a string as an input to annotate the x axis.\n",
    ">\n",
    ">`plt.ylabel()`: Takes a string as an input to annotate the y axis.\n",
    ">\n",
    ">`plt.title()`: Takes a string as an input to title the graph.\n",
    ">\n",
    ">`plt.legend()`: Takes a list of strings as an input to generate a plot legend (this information can also be provided as labels, see below).\n",
    ">\n",
    ">`plt.xlim()`: Takes two numbers separated by a comma as input to assign the minimum and maximum values of the x axis range.\n",
    ">\n",
    ">`plt.ylim()`: Takes two numbers separated by a comma as input to assign the minimum and maximum values of the y axis range.\n",
    ">\n",
    "If multiple datasets are handed to `plt.plot()` prior to the `plt.show()` function (each dataset should be added as a separate `plt.plot()` function), these datasets will be displayed on the same set of axes."
   ]
  },
  {
   "cell_type": "markdown",
   "metadata": {},
   "source": [
    "✏️ Produce a single graph plotting the three datasets provided below. In each case, use the same x variable. Try adding a legend with the `legend()` function."
   ]
  },
  {
   "cell_type": "code",
   "execution_count": 31,
   "metadata": {},
   "outputs": [
    {
     "data": {
      "image/png": "[encoded data removed]",
      "text/plain": [
       "<Figure size 432x288 with 1 Axes>"
      ]
     },
     "metadata": {
      "needs_background": "light"
     },
     "output_type": "display_data"
    }
   ],
   "source": [
    "x=[1,2,3,4,5]\n",
    "y1=[2,4,6,8,10]\n",
    "y2=[1,2,3,4,5]\n",
    "y3=[1.5,3,4.5,6,7.5]\n",
    "\n",
    "plt.plot(x,y1)\n",
    "plt.plot(x,y2)\n",
    "plt.plot(x,y3)\n",
    "plt.show()"
   ]
  },
  {
   "cell_type": "markdown",
   "metadata": {},
   "source": [
    "While Python will make different datasets distinct by default, it is possible to define the marker style and colour awithin each `plot()` function:\n",
    "<br>\n",
    "<br>`plt.plot(x,y,\"o\",color=\"red\")`\n",
    "<br>\n",
    "<br>A list of marker styles can be found here: https://matplotlib.org/stable/api/markers_api.html.\n",
    "<br>\n",
    "<br>For a list of named colours, see the CSS colours found here: https://matplotlib.org/stable/gallery/color/named_colors.html\n",
    "<br>\n",
    "<br>It is also possible to assign each dataset a label within the `plot()` function, which the `legend()` function will use by default if it is called without an argument:\n",
    "<br>\n",
    "<br>`plt.plot(x,y,label=\"Dataset 1\")`"
   ]
  },
  {
   "cell_type": "markdown",
   "metadata": {},
   "source": [
    "✏️ Play around with marker styles and colours to produce a plot in which the three datasets are displayed in a distinct manner. In addition, provide a legend for the plot using by assigning a `label` within each `plot()` function."
   ]
  },
  {
   "cell_type": "code",
   "execution_count": 40,
   "metadata": {},
   "outputs": [
    {
     "data": {
      "image/png": "[encoded data removed]",
      "text/plain": [
       "<Figure size 432x288 with 1 Axes>"
      ]
     },
     "metadata": {
      "needs_background": "light"
     },
     "output_type": "display_data"
    }
   ],
   "source": [
    "x=[1,2,3,4,5]\n",
    "y1=[2,4,6,8,10]\n",
    "y2=[1,2,3,4,5]\n",
    "y3=[1.5,3,4.5,6,7.5]\n",
    "\n",
    "plt.plot(x,y1,'o',color='red',label='Dataset 1')\n",
    "plt.plot(x,y2,'.',color='blue',label='Dataset 2')\n",
    "plt.plot(x,y3,'x',color='green',label='Dataset 3')\n",
    "plt.legend()\n",
    "plt.show()\n"
   ]
  },
  {
   "cell_type": "markdown",
   "metadata": {},
   "source": [
    "---"
   ]
  }
 ],
 "metadata": {
  "kernelspec": {
   "display_name": "Python 3",
   "language": "python",
   "name": "python3"
  },
  "language_info": {
   "codemirror_mode": {
    "name": "ipython",
    "version": 3
   },
   "file_extension": ".py",
   "mimetype": "text/x-python",
   "name": "python",
   "nbconvert_exporter": "python",
   "pygments_lexer": "ipython3",
   "version": "3.7.3"
  }
 },
 "nbformat": 4,
 "nbformat_minor": 5
}
