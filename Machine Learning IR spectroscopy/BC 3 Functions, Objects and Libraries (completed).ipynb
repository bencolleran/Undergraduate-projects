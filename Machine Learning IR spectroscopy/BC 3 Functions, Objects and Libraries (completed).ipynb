{
 "cells": [
  {
   "cell_type": "markdown",
   "metadata": {},
   "source": [
    "# 3 Functions, Objects and Libraries"
   ]
  },
  {
   "cell_type": "markdown",
   "metadata": {},
   "source": [
    "This notebook will introduce how to more broadly employ functions and how to write your own.\n",
    "<br>\n",
    "<br>You will be taken through the process of importing libraries of previosuly written functions and introduced to objects and their associated attributes and methods."
   ]
  },
  {
   "cell_type": "markdown",
   "metadata": {},
   "source": [
    "---"
   ]
  },
  {
   "cell_type": "markdown",
   "metadata": {},
   "source": [
    "### 1 Functions"
   ]
  },
  {
   "cell_type": "markdown",
   "metadata": {},
   "source": [
    "A function is simply a block of code with a name.\n",
    "<br>\n",
    "<br>`len()`, which you've used previously, is a function. The block of code it runs computes how long something (a string, or a list) is. The function is applied to the object placed in the brackets after the function name, and in this case the function returns the length of the object.\n",
    "<br>\n",
    "<br>The object passed into the function, in brackets, is called the **argument**."
   ]
  },
  {
   "cell_type": "code",
   "execution_count": 1,
   "metadata": {},
   "outputs": [
    {
     "data": {
      "text/plain": [
       "5"
      ]
     },
     "execution_count": 1,
     "metadata": {},
     "output_type": "execute_result"
    }
   ],
   "source": [
    "len(\"hello\")"
   ]
  },
  {
   "cell_type": "markdown",
   "metadata": {},
   "source": [
    "Note that writing `len(\"hello\")` is the same thing as writing `5` - just as we can create a variable with `length = 5`, we can use `length = len(\"hello\")`."
   ]
  },
  {
   "cell_type": "markdown",
   "metadata": {},
   "source": [
    "It is possible to define new functions in Python.\n",
    "<br>\n",
    "<br>Once defined, the code that makes up your function can be run by just referencing the name of the block of code, rather than typing out all of the code. This is useful if you have long stretches of code which need to run lots of times - writing out the same block of code many times is messy, repetitive, time consuming, and may result in errors.\n",
    "<br>\n",
    "<br>The code below defines a very simple function called 'calculate_product' which multiplies two numbers together. It takes in two arguments (`a` and `b`), separated by a comma, and returns the output `product`."
   ]
  },
  {
   "cell_type": "code",
   "execution_count": 4,
   "metadata": {},
   "outputs": [],
   "source": [
    "def calculate_product(a, b):\n",
    "    product = a*b\n",
    "    return product"
   ]
  },
  {
   "cell_type": "markdown",
   "metadata": {},
   "source": [
    "The syntax is very similar to `if`-`else` statements, and `for` loops.\n",
    "<br>\n",
    "<br>`def` tells Python we're about to **def**ine a function.\n",
    "<br>\n",
    "<br>`calculate_product` is the name given to this function (block of code).\n",
    "<br>\n",
    "<br>`(a, b)`: `a` and `b` are called 'parameters'. These two variables are passed into the function, and can be used by the function.\n",
    "<br>\n",
    "<br>`return product` is how we get our calculated value out of the function. Functions are very standalone, so if we don't return anything, all the values that we calculated inside the function will be lost."
   ]
  },
  {
   "cell_type": "markdown",
   "metadata": {},
   "source": [
    "We **call** the function with `calculate_product(2, 3)`, i.e. by writing the name of the function, and putting the values for the parameters `a` and `b` in brackets.\n",
    "\n",
    "**Note:**\n",
    ">`a` and `b`, when we define the function, are called **parameters** - they do not yet have defined values.\n",
    ">\n",
    ">Once given values, e.g. `2` and `3`, when we call the function, `a`and `b` are now called **arguments**."
   ]
  },
  {
   "cell_type": "markdown",
   "metadata": {},
   "source": [
    "✏️ Using the `calculate_product()` function, evaluate the value of 59 squared, capture it in a variable, and print the result."
   ]
  },
  {
   "cell_type": "code",
   "execution_count": 6,
   "metadata": {},
   "outputs": [
    {
     "name": "stdout",
     "output_type": "stream",
     "text": [
      "3481\n"
     ]
    }
   ],
   "source": [
    "val=calculate_product(59,59)\n",
    "print(val)"
   ]
  },
  {
   "cell_type": "markdown",
   "metadata": {},
   "source": [
    "✏️ Write a function that finds the length of the hypotenuse of a right-angled triangle, given both other sides.\n",
    "\n",
    "*Hint: The function `math.sqrt()` returns the square root of a number. The math library is imported for you below.*"
   ]
  },
  {
   "cell_type": "code",
   "execution_count": 7,
   "metadata": {},
   "outputs": [],
   "source": [
    "import math #this line lets you use the math.sqrt() function - it will be explained later in this exercise.\n",
    "def hypotenuse(a,b):\n",
    "    return math.sqrt(a**2+b**2)"
   ]
  },
  {
   "cell_type": "markdown",
   "metadata": {},
   "source": [
    "✏️ Try your function out on this triangle:\n",
    "\n",
    "![a=5,b=12](https://images.saymedia-content.com/.image/t_share/MTg0ODIyMzIyMjQ1NDExOTYw/how-to-use-pythagoras-theorem-to-find-missing-sides-on-right-angled-triangles.jpg)"
   ]
  },
  {
   "cell_type": "code",
   "execution_count": 8,
   "metadata": {},
   "outputs": [
    {
     "name": "stdout",
     "output_type": "stream",
     "text": [
      "13.0\n"
     ]
    }
   ],
   "source": [
    "print(hypotenuse(5,12))"
   ]
  },
  {
   "cell_type": "markdown",
   "metadata": {},
   "source": [
    "✏️ The trapezium rule, for numerical integration under a curve, is shown below.\n",
    "<br>\n",
    "<br>$$\\sum_{i=1}\\frac{1}{2}(y_i+y_{i-1})(x_i-x_{i-1})$$\n",
    "<br>*Note that, for clarity, in this formula `i` is 0-indexed.*\n",
    "<br>\n",
    "<br>Write a function which takes in two lists, `x_values` and `y_values`, and returns the area under the curve that they define. You will need to use a for loop with `range()`.\n",
    "<br>\n",
    "<Br>*Hint: It is often good practice to attempt a task manually (without a for loop) for the first couple of points, as a starting point. Then, see how you could generalise this to a for loop.*"
   ]
  },
  {
   "cell_type": "code",
   "execution_count": 9,
   "metadata": {},
   "outputs": [],
   "source": [
    "def numerical_integral(x_values,y_values):\n",
    "    summation=0\n",
    "    for i in range(1,len(x_values)):\n",
    "        summation+=0.5*(y_values[i]+y_values[i-1])*(x_values[i]-x_values[i-1])\n",
    "    return summation"
   ]
  },
  {
   "cell_type": "markdown",
   "metadata": {},
   "source": [
    "✏️ Test your function on the x and y values below. You should get an area of 9.5 units."
   ]
  },
  {
   "cell_type": "code",
   "execution_count": 10,
   "metadata": {},
   "outputs": [
    {
     "name": "stdout",
     "output_type": "stream",
     "text": [
      "9.5\n"
     ]
    }
   ],
   "source": [
    "x_values = [0,1,2,3]\n",
    "y_values = [0,1,4,9]\n",
    "\n",
    "print(numerical_integral(x_values,y_values))"
   ]
  },
  {
   "cell_type": "markdown",
   "metadata": {},
   "source": [
    "In Python, it is possible to assign multiple variables at the same time, using a comma as a delimiter. This is similar to passing multiple arguments into a function:"
   ]
  },
  {
   "cell_type": "code",
   "execution_count": 11,
   "metadata": {},
   "outputs": [
    {
     "name": "stdout",
     "output_type": "stream",
     "text": [
      "1\n",
      "2\n"
     ]
    }
   ],
   "source": [
    "a, b = 1, 2\n",
    "print(a)\n",
    "print(b)"
   ]
  },
  {
   "cell_type": "markdown",
   "metadata": {},
   "source": [
    "Just as it is possible can pass multiple arguments into a function by separating them with commas (`plt.plot(x,y)`), we can **return** multiple values from a function by separating them with commas (`return a, b`).\n",
    "<br>\n",
    "<br>When a function returns more than one value, you can assign each value to a variable by separating the variables with commas (`a, b = some_function(c, d)`), like above."
   ]
  },
  {
   "cell_type": "markdown",
   "metadata": {},
   "source": [
    "✏️ Write a function which, given $a$, $b$ and $c$, returns **either** the (two) roots of the quadratic equation **or** `None` if there are no real roots.\n",
    "\n",
    "$$x = \\frac{-b\\pm\\sqrt{b^2-4ac}}{2a}$$"
   ]
  },
  {
   "cell_type": "code",
   "execution_count": 21,
   "metadata": {},
   "outputs": [],
   "source": [
    "def roots(a,b,c):\n",
    "    if b**2-4*a*c>=0:\n",
    "        d=math.sqrt(b**2-4*a*c)/(2*a)\n",
    "        return -b/(2*a)-d,-b/(2*a)+d\n",
    "    else:\n",
    "        return None"
   ]
  },
  {
   "cell_type": "markdown",
   "metadata": {},
   "source": [
    "✏️ Using the comma notation above, store the two real roots of $y = x^2 + 2x - 100$ in the variables `root_plus` and `root_minus`, and print them both."
   ]
  },
  {
   "cell_type": "code",
   "execution_count": 22,
   "metadata": {},
   "outputs": [
    {
     "name": "stdout",
     "output_type": "stream",
     "text": [
      "-11.04987562112089 9.04987562112089\n"
     ]
    }
   ],
   "source": [
    "root_minus,root_plus=roots(1,2,-100)\n",
    "print(root_minus,root_plus)"
   ]
  },
  {
   "cell_type": "markdown",
   "metadata": {},
   "source": [
    "---"
   ]
  },
  {
   "cell_type": "markdown",
   "metadata": {},
   "source": [
    "### 2 Libraries and Importing"
   ]
  },
  {
   "cell_type": "markdown",
   "metadata": {},
   "source": [
    "It is often the case that the code for a process has already been written by another person at some point in the past. In a lot of these cases, they have then made this code freely available for us, to avoid us having to re-invent the wheel.\n",
    "<br>\n",
    "<br>For example, finding the square root of a number is deceptively difficult. Fortunately, programmers much better than you or I have written a function for this. They have put this function in a file called math.py, which came along with Python when it was downloaded onto your computer (e.g. when Anaconda was installed). This file is now called a **library**.\n",
    "<br>\n",
    "<br>In order to use the function (called `sqrt()`) in the `math` library, we have to import the library at the start of our code. We import this with the command `import math`.\n",
    "<br>\n",
    "<br>Once imported, Python can utilise functions within the `math` library, with the syntax `library.function()`, e.g `math.sqrt()`.\n",
    "<br>\n",
    "<br>Alongside the `math` library, the `numpy` library contains lots of mathematical operations you might otherwise have to spend a long time coding yourself and is a commonly imported library for coding in maths and science."
   ]
  },
  {
   "cell_type": "markdown",
   "metadata": {},
   "source": [
    "✏️ The `numpy` library contains has a function called `mean()`. Import the `numpy` library, create a list of integers (of your choosing), and use the library function to find the mean of this list."
   ]
  },
  {
   "cell_type": "code",
   "execution_count": 23,
   "metadata": {},
   "outputs": [
    {
     "name": "stdout",
     "output_type": "stream",
     "text": [
      "24.5\n"
     ]
    }
   ],
   "source": [
    "import numpy as np\n",
    "integers=list(range(0,50,7))\n",
    "print(np.mean(integers))"
   ]
  },
  {
   "cell_type": "markdown",
   "metadata": {},
   "source": [
    "**Note:**\n",
    ">It would get a bit wordy writing out 'numpy' every time anything from the library wass required.\n",
    ">\n",
    ">The `as` keyword can be used after `import numpy` to import the library under a different (abbreviated) name. For `numpy` this is often taken as `np`."
   ]
  },
  {
   "cell_type": "markdown",
   "metadata": {},
   "source": [
    "✏️ Import `numpy` as `np` such that it will work in the code below."
   ]
  },
  {
   "cell_type": "code",
   "execution_count": 24,
   "metadata": {},
   "outputs": [
    {
     "data": {
      "text/plain": [
       "2.5"
      ]
     },
     "execution_count": 24,
     "metadata": {},
     "output_type": "execute_result"
    }
   ],
   "source": [
    "import numpy as np\n",
    "np.mean([1,2,3,4])"
   ]
  },
  {
   "cell_type": "markdown",
   "metadata": {},
   "source": [
    "---"
   ]
  },
  {
   "cell_type": "markdown",
   "metadata": {},
   "source": [
    "### 3 Objects"
   ]
  },
  {
   "cell_type": "markdown",
   "metadata": {},
   "source": [
    "In Python, an object is a *thing* which has data associated with it, and which has functions associated with it which can act on it. Almost everything in Python is an object, e.g. lists, strings, etc.\n",
    "<br>\n",
    "<br>The data associated with an object are called its attributes. A list's attributes are the items that make it up. For example, the list `[1,2,3,4]`'s attributes are `1`, `2`, `3` and `4`.\n",
    "<br>\n",
    "<br>The functions associated with an object, which can act on that object, are called methods. A list has a method (a function associated with it) called `append()`, which acts on it, and adds an item to the end of it.\n",
    "<br>\n",
    "<br>A string is also an object. It has attributes, which are the characters which make it up, and methods, which are functions that are associated with it and that can act on it. An example of a method of a string is the function `upper()`, which acts on a string and returns it in upper case.\n",
    "<br>\n",
    "<br>Generally, to return an attribute of an object, you use the notation `object.attribute`. Lists are a special case - you use the notation `list[attribute]`.\n",
    "<br>\n",
    "<br>Generally, to act on an object with one of its methods, you use the notation `object.method()`. For example, to use the sort method on a list, you write `list.sort()`.\n",
    "<br>\n",
    "<br>Some examples of these processes are provided below."
   ]
  },
  {
   "cell_type": "code",
   "execution_count": 25,
   "metadata": {},
   "outputs": [
    {
     "name": "stdout",
     "output_type": "stream",
     "text": [
      "2\n",
      "11\n",
      "[2, 3, 5, 7, 11, 13]\n"
     ]
    }
   ],
   "source": [
    "#Create a new list, which we now know is an object.\n",
    "primes = [2,3,5,7,11]\n",
    "\n",
    "#Output one of the attributes of the list - the first item.\n",
    "print(primes[0])\n",
    "\n",
    "#Output another attribute of the list - the last item.\n",
    "print(primes[4])\n",
    "\n",
    "#Apply a method to the list. This method is a function which adds its argument (13) onto the end of the object (the list 'primes').\n",
    "primes.append(13)\n",
    "\n",
    "#Print the result.\n",
    "print(primes)"
   ]
  },
  {
   "cell_type": "markdown",
   "metadata": {},
   "source": [
    "A string object has a method called `count`, which acts on a string, takes a character/letter as an argument, and returns the number of times that character appears in the string."
   ]
  },
  {
   "cell_type": "markdown",
   "metadata": {},
   "source": [
    "✏️ Without counting it yourself, how many times does the letter 'a' appear in the string below? You should get 18.\n",
    "How does the result differ if the argument is altered to 'A'?"
   ]
  },
  {
   "cell_type": "code",
   "execution_count": 27,
   "metadata": {},
   "outputs": [
    {
     "name": "stdout",
     "output_type": "stream",
     "text": [
      "1\n"
     ]
    }
   ],
   "source": [
    "string = \"Atkins' Physical Chemistry epitomises the benchmark of achievement for a chemistry degree throughout the world. Its broad coverage, concise explanations, and robust mathematical support are clearly presented in an engaging style to furnish students with a solid foundation in the subject.\"\n",
    "print(string.count('A'))"
   ]
  },
  {
   "cell_type": "markdown",
   "metadata": {},
   "source": [
    "We saw earlier how we can import functions from libraries. We can also create new types of objects (in addition to just lists and strings) by using templates imported from libraries. For example, `numpy` allows us to create an object called an array, which is very similar to a list.\n",
    "<br>\n",
    "<br>We create an object from a library in a similar way to that in which we use a function from a library. Recall that we have to tell Python which library we want to use a function from - so `np.mean()` for the `mean()` function from the `numpy` library. To create an array object from the `numpy` library, we use `np.array()`. In the brackets we can pass arguments for use in creating the object - here we must pass the list we wish to turn into a numpy array."
   ]
  },
  {
   "cell_type": "code",
   "execution_count": 30,
   "metadata": {},
   "outputs": [],
   "source": [
    "np_array = np.array([2,4,6,8])"
   ]
  },
  {
   "cell_type": "markdown",
   "metadata": {},
   "source": [
    "✏️ Use the `print()` function to see what the array defined above looks like."
   ]
  },
  {
   "cell_type": "code",
   "execution_count": 31,
   "metadata": {},
   "outputs": [
    {
     "name": "stdout",
     "output_type": "stream",
     "text": [
      "[2 4 6 8]\n"
     ]
    }
   ],
   "source": [
    "print(np_array)"
   ]
  },
  {
   "cell_type": "markdown",
   "metadata": {},
   "source": [
    "✏️ Create a list object, containing the first 5 prime numbers. Convert your list into a `numpy` array."
   ]
  },
  {
   "cell_type": "code",
   "execution_count": 32,
   "metadata": {},
   "outputs": [],
   "source": [
    "lst=[2,3,5,7,11]\n",
    "array=np.array(lst)"
   ]
  },
  {
   "cell_type": "markdown",
   "metadata": {},
   "source": [
    "A method of the `numpy` array object is `.max()`, which returns the largest number in the array."
   ]
  },
  {
   "cell_type": "markdown",
   "metadata": {},
   "source": [
    "✏️ Use the `max()` method to print the largest prime in your list."
   ]
  },
  {
   "cell_type": "code",
   "execution_count": 33,
   "metadata": {},
   "outputs": [
    {
     "name": "stdout",
     "output_type": "stream",
     "text": [
      "11\n"
     ]
    }
   ],
   "source": [
    "print(np.max(array))"
   ]
  },
  {
   "cell_type": "markdown",
   "metadata": {},
   "source": [
    "`numpy` array objects have an attribute called `size`, which can be accessed with the syntax `array.size`."
   ]
  },
  {
   "cell_type": "markdown",
   "metadata": {},
   "source": [
    "✏️ Evaluate the 'size' of your prime number array?"
   ]
  },
  {
   "cell_type": "code",
   "execution_count": 34,
   "metadata": {},
   "outputs": [
    {
     "name": "stdout",
     "output_type": "stream",
     "text": [
      "5\n"
     ]
    }
   ],
   "source": [
    "print(array.size)"
   ]
  },
  {
   "cell_type": "markdown",
   "metadata": {},
   "source": [
    "Multiplying a list by a scalar gives a different result to when an array is multiplied by a scalar."
   ]
  },
  {
   "cell_type": "markdown",
   "metadata": {},
   "source": [
    "✏️ Create a list of the first 6 integers. Convert this list to a `numpy` array with a different variable name. Multiply both the list and the array by 3 and print the output."
   ]
  },
  {
   "cell_type": "code",
   "execution_count": 35,
   "metadata": {},
   "outputs": [
    {
     "name": "stdout",
     "output_type": "stream",
     "text": [
      "[1, 2, 3, 4, 5, 6, 1, 2, 3, 4, 5, 6, 1, 2, 3, 4, 5, 6, 1, 2, 3, 4, 5, 6, 1, 2, 3, 4, 5, 6, 1, 2, 3, 4, 5, 6]\n",
      "[ 6 12 18 24 30 36]\n"
     ]
    }
   ],
   "source": [
    "lst1=[1,2,3,4,5,6]\n",
    "array1=np.array(lst1)\n",
    "print(6*lst1)\n",
    "print(6*array1)"
   ]
  },
  {
   "cell_type": "markdown",
   "metadata": {},
   "source": [
    "While both outputs are hopefully logical in their own way, the result for the `numpy` array will likely feel a bit more natural. This is one reason we might use a numpy array over a Python list."
   ]
  },
  {
   "cell_type": "markdown",
   "metadata": {},
   "source": [
    "---"
   ]
  },
  {
   "cell_type": "markdown",
   "metadata": {},
   "source": [
    "### 4 In-Place Operations"
   ]
  },
  {
   "cell_type": "markdown",
   "metadata": {},
   "source": [
    "When applying functions to things, whether as standalone functions, or as methods, there is quite an important distinction to be made - whether it operates **in-place** or not.\n",
    "<br>\n",
    "<br>This means whether it alters the thing it acts on, or returns a new altered copy of it, leaving the original untouched.\n",
    "<br>\n",
    "<br>An in-place operation is one which overwrites/changes an existing variable/object. So the `append()` method is an in-place method, since when you run `list.append(value)`, `list` is changed (it has an item added to it).\n",
    "<br>\n",
    "<br>Conversely, an operation which is not in-place returns a copy of the existing variable/object, such that if you want to apply the change to the variable/object, you need to reassign it as equal to the result of the operation.\n",
    "<br>\n",
    "<br>The `numpy` `reshape()` method is not an in-place operation - `np_array.reshape([2,2])` returns a reshaped array, leaving `np_array` untouched. If you want your reshaping to persist, you need to write `np_array = np_array.reshape([2,2])`."
   ]
  },
  {
   "cell_type": "markdown",
   "metadata": {},
   "source": [
    "✏️ Using the `sort()` method of a list, and the `reshape()` method of a numpy array, modify the list A such that it becomes equal to the list B.\n",
    "\n",
    "*Hint: `sort()` is an in-place operation, while `reshape()` is not.*"
   ]
  },
  {
   "cell_type": "code",
   "execution_count": 62,
   "metadata": {},
   "outputs": [],
   "source": [
    "A = [5,7,8,5,7,1]\n",
    "A.sort()\n",
    "A=np.array(A).reshape([3,2])\n",
    "B = np.array([[1, 5], [5, 7], [7, 8]])"
   ]
  },
  {
   "cell_type": "markdown",
   "metadata": {},
   "source": [
    "Check you did this succesfully - the following code should return a 3x2 numpy array with `True` for each value, if your conversions above were correct."
   ]
  },
  {
   "cell_type": "code",
   "execution_count": 63,
   "metadata": {},
   "outputs": [
    {
     "data": {
      "text/plain": [
       "array([[ True,  True],\n",
       "       [ True,  True],\n",
       "       [ True,  True]])"
      ]
     },
     "execution_count": 63,
     "metadata": {},
     "output_type": "execute_result"
    }
   ],
   "source": [
    "A == B"
   ]
  },
  {
   "cell_type": "markdown",
   "metadata": {},
   "source": [
    "---"
   ]
  },
  {
   "cell_type": "markdown",
   "metadata": {},
   "source": [
    "### 5 Summary"
   ]
  },
  {
   "cell_type": "markdown",
   "metadata": {},
   "source": [
    "A function is a block of code which can be run by calling the functions's name. A function takes in one or more values, and returns a value."
   ]
  },
  {
   "cell_type": "code",
   "execution_count": 64,
   "metadata": {},
   "outputs": [
    {
     "data": {
      "text/plain": [
       "5.0"
      ]
     },
     "execution_count": 64,
     "metadata": {},
     "output_type": "execute_result"
    }
   ],
   "source": [
    "def divide(a,b):\n",
    "    return a/b\n",
    "\n",
    "divide(10,2)"
   ]
  },
  {
   "cell_type": "markdown",
   "metadata": {},
   "source": [
    "A library is some code, often written by another party, containing functions and instructions for how to create objects."
   ]
  },
  {
   "cell_type": "code",
   "execution_count": 65,
   "metadata": {},
   "outputs": [],
   "source": [
    "import numpy as np\n",
    "\n",
    "#Use a function from the numpy library.\n",
    "mean = np.mean([2,4,6]) #4\n",
    "\n",
    "#Make an object from the numpy library.\n",
    "array_object = np.array([2,4,6])"
   ]
  },
  {
   "cell_type": "markdown",
   "metadata": {},
   "source": [
    "An object possesses attributes (data) and methods (functions)."
   ]
  },
  {
   "cell_type": "code",
   "execution_count": 66,
   "metadata": {},
   "outputs": [
    {
     "data": {
      "text/plain": [
       "array([[2, 4],\n",
       "       [6, 8]])"
      ]
     },
     "execution_count": 66,
     "metadata": {},
     "output_type": "execute_result"
    }
   ],
   "source": [
    "#Make a numpy array object.\n",
    "np_array = np.array([2,4,6,8])\n",
    "\n",
    "#An array object has many attributes (properties). One is 'size', which is the size of the array.\n",
    "np_array.size\n",
    "\n",
    "#An array object has many methods, which are functions that act on the object.\n",
    "#One is '.max()', which returns the maximum value in the array.\n",
    "np_array.max()\n",
    "\n",
    "#Sometimes a method will take an argument.\n",
    "#The '.reshape()' method takes as an argument a list, giving the dimensions of a new array to make from your array.\n",
    "np_array.reshape([2,2])"
   ]
  },
  {
   "cell_type": "markdown",
   "metadata": {},
   "source": [
    "Not all functions change the identity of the input object. *In-place* operations overwrite the input, while operations that *do not operate in-place* give a new ouput that needs to be assigned to a variable if it is to be referred to in future operations. "
   ]
  },
  {
   "cell_type": "markdown",
   "metadata": {},
   "source": [
    "---"
   ]
  }
 ],
 "metadata": {
  "kernelspec": {
   "display_name": "Python 3",
   "language": "python",
   "name": "python3"
  },
  "language_info": {
   "codemirror_mode": {
    "name": "ipython",
    "version": 3
   },
   "file_extension": ".py",
   "mimetype": "text/x-python",
   "name": "python",
   "nbconvert_exporter": "python",
   "pygments_lexer": "ipython3",
   "version": "3.7.3"
  }
 },
 "nbformat": 4,
 "nbformat_minor": 5
}
