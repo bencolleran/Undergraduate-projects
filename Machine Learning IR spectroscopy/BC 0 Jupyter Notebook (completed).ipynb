{
 "cells": [
  {
   "cell_type": "markdown",
   "metadata": {},
   "source": [
    "# Jupyter Notebooks"
   ]
  },
  {
   "cell_type": "markdown",
   "metadata": {},
   "source": [
    "This notebook introduces some basic functionality of the Jupyter notebook format."
   ]
  },
  {
   "cell_type": "markdown",
   "metadata": {},
   "source": [
    "---"
   ]
  },
  {
   "cell_type": "markdown",
   "metadata": {},
   "source": [
    "A Jupyter Notebook consists of many cells (boxes). A cell either contains text (white), like this one, or code (grey), like the one below. Each code cell can be run separately.\n",
    "<br>\n",
    "<br>To run a code cell click `▶ Run` in the toolbar above, or press `Shift` + `Enter` when the cursor is in the code cell of interest.\n",
    "<br>\n",
    "<br>✏️ Run the cell below, and see what happens."
   ]
  },
  {
   "cell_type": "code",
   "execution_count": null,
   "metadata": {},
   "outputs": [],
   "source": [
    "print(2+2)"
   ]
  },
  {
   "cell_type": "markdown",
   "metadata": {},
   "source": [
    "✏️ To add a new cell, use the `+` button on the toolbar. Add a cell below this one, and print the value of `5 + 6`"
   ]
  },
  {
   "cell_type": "markdown",
   "metadata": {},
   "source": [
    "You can modify a text cell by double clicking on it. You can restore it to how it normally looks by 'running' it.\n",
    "<br>\n",
    "<br>✏️ Correct the cell sandwiched between the two horizontal lines below."
   ]
  },
  {
   "cell_type": "markdown",
   "metadata": {},
   "source": [
    "---"
   ]
  },
  {
   "cell_type": "markdown",
   "metadata": {},
   "source": [
    "Syringe needles go in the glass bin."
   ]
  },
  {
   "cell_type": "markdown",
   "metadata": {},
   "source": [
    "---"
   ]
  },
  {
   "cell_type": "markdown",
   "metadata": {},
   "source": [
    "Some sections of code may take a while to run. While a cell is running, you'll see a `[*]` to the left of it, and the symbol at the very top of your browser window will change from an orange notebook to an orange hourglass (⌛).\n",
    "<br>\n",
    "<br>Once it has finished running, the `[*]` will be replaced by a number, and the hourglass will revert to the orange notebook.\n",
    "<br>\n",
    "<br>✏️ See this in action by running the cell below."
   ]
  },
  {
   "cell_type": "code",
   "execution_count": null,
   "metadata": {},
   "outputs": [],
   "source": [
    "print(\"Starting...\")\n",
    "\n",
    "import time    #this line loads some extra Python code\n",
    "time.sleep(5)  #this line waits for 5 seconds\n",
    "\n",
    "print(\"Finished.\")"
   ]
  },
  {
   "cell_type": "markdown",
   "metadata": {},
   "source": [
    "---"
   ]
  }
 ],
 "metadata": {
  "kernelspec": {
   "display_name": "Python 3",
   "language": "python",
   "name": "python3"
  },
  "language_info": {
   "codemirror_mode": {
    "name": "ipython",
    "version": 3
   },
   "file_extension": ".py",
   "mimetype": "text/x-python",
   "name": "python",
   "nbconvert_exporter": "python",
   "pygments_lexer": "ipython3",
   "version": "3.7.3"
  }
 },
 "nbformat": 4,
 "nbformat_minor": 5
}
