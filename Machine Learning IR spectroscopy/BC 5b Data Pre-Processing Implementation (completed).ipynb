{
 "cells": [
  {
   "cell_type": "markdown",
   "metadata": {},
   "source": [
    "# 5b Data Pre-Processing Implementation"
   ]
  },
  {
   "cell_type": "markdown",
   "metadata": {},
   "source": [
    "Recall that at the start of each new notebook you will need to import all libraries again."
   ]
  },
  {
   "cell_type": "markdown",
   "metadata": {},
   "source": [
    "✏️ Import the numpy and pandas libraries. In addition, import your newly created C317 library."
   ]
  },
  {
   "cell_type": "code",
   "execution_count": 19,
   "metadata": {},
   "outputs": [],
   "source": [
    "import numpy as np\n",
    "import pandas as pd\n",
    "import C317\n",
    "from C317 import Narrow, Normalise, Interpolate"
   ]
  },
  {
   "cell_type": "markdown",
   "metadata": {},
   "source": [
    "You now know how to import a .txt file into a DataFrame. In the `IR Data` folder, there are 380 text files, for `380/5=76` different chemicals, i.e. there are 5 repeated spectra for each compound.\n",
    "<br>\n",
    "<br>Writing out a new command to read each .txt file in turn, `pd.read_csv(...)`, would be very consuming for each of these 380 files. It would be more useful to be able to automate this process."
   ]
  },
  {
   "cell_type": "markdown",
   "metadata": {},
   "source": [
    "✏️ **Without explicitly writing it out,** create a list, 5 items long, containing the **file names** (strings) of the 5 repeats of m-anisaldehyde (`[\"m-anisaldehyde_1\", \"m-anisaldehyde_2\", ...]`)\n",
    "\n",
    "*Hint: This can be accomplished using a `for` loop. The `.append()` method of a list may well be useful. You may also find formatted strings or string addition helpful (refer back to Notebook 2 for more information).*"
   ]
  },
  {
   "cell_type": "code",
   "execution_count": 9,
   "metadata": {},
   "outputs": [
    {
     "name": "stdout",
     "output_type": "stream",
     "text": [
      "['m-anisaldehyde_1', 'm-anisaldehyde_2', 'm-anisaldehyde_3', 'm-anisaldehyde_4', 'm-anisaldehyde_5']\n"
     ]
    }
   ],
   "source": [
    "files=[f\"m-anisaldehyde_{i}\" for i in range(1,6)]\n",
    "print(files)"
   ]
  },
  {
   "cell_type": "markdown",
   "metadata": {},
   "source": [
    "✏️ Adapt this code to make a list in which each entry is a **DataFrame** (using `read_csv()`) of the 5 repeats of m-anisaldehyde.\n",
    "\n",
    "**Note:**\n",
    ">For clarity, make the column name of each DataFrame the same as the file name (instead of \"% Transmittance\" as was used previously).\n",
    "\n",
    "Use the `.head()` method to confirm that there are five different DataFrames contained in your list."
   ]
  },
  {
   "cell_type": "code",
   "execution_count": 12,
   "metadata": {},
   "outputs": [
    {
     "data": {
      "text/html": [
       "<div>\n",
       "<style scoped>\n",
       "    .dataframe tbody tr th:only-of-type {\n",
       "        vertical-align: middle;\n",
       "    }\n",
       "\n",
       "    .dataframe tbody tr th {\n",
       "        vertical-align: top;\n",
       "    }\n",
       "\n",
       "    .dataframe thead th {\n",
       "        text-align: right;\n",
       "    }\n",
       "</style>\n",
       "<table border=\"1\" class=\"dataframe\">\n",
       "  <thead>\n",
       "    <tr style=\"text-align: right;\">\n",
       "      <th></th>\n",
       "      <th>m-anisaldehyde_1</th>\n",
       "    </tr>\n",
       "  </thead>\n",
       "  <tbody>\n",
       "    <tr>\n",
       "      <th>399.826377</th>\n",
       "      <td>92.012424</td>\n",
       "    </tr>\n",
       "    <tr>\n",
       "      <th>400.183684</th>\n",
       "      <td>94.958885</td>\n",
       "    </tr>\n",
       "    <tr>\n",
       "      <th>400.540991</th>\n",
       "      <td>97.443201</td>\n",
       "    </tr>\n",
       "    <tr>\n",
       "      <th>400.898298</th>\n",
       "      <td>97.642822</td>\n",
       "    </tr>\n",
       "    <tr>\n",
       "      <th>401.255605</th>\n",
       "      <td>95.774480</td>\n",
       "    </tr>\n",
       "  </tbody>\n",
       "</table>\n",
       "</div>"
      ],
      "text/plain": [
       "            m-anisaldehyde_1\n",
       "399.826377         92.012424\n",
       "400.183684         94.958885\n",
       "400.540991         97.443201\n",
       "400.898298         97.642822\n",
       "401.255605         95.774480"
      ]
     },
     "execution_count": 12,
     "metadata": {},
     "output_type": "execute_result"
    }
   ],
   "source": [
    "dataframes=[pd.read_csv(f\"data/{file}.txt\",skiprows=4,delimiter=\"\\s+\",names=[file],index_col=0) for file in files]\n",
    "dataframes[0].head()\n"
   ]
  },
  {
   "cell_type": "markdown",
   "metadata": {},
   "source": [
    "We would now like to create a list with DataFrames for *all* of the (380) IR spectra in `IR Data`. Even with the increase in efficiency we have found above, this would be tedious.\n",
    "<br>\n",
    "<br>Python has a library called `os` (stands for 'operating system'), which lets you access the files on your computer. Rather than writing out all the names of the chemicals, we can get `os` to look in the folder where they're stored, and list them all."
   ]
  },
  {
   "cell_type": "markdown",
   "metadata": {},
   "source": [
    "✏️ Import the `os` library."
   ]
  },
  {
   "cell_type": "code",
   "execution_count": 13,
   "metadata": {},
   "outputs": [],
   "source": [
    "import os"
   ]
  },
  {
   "cell_type": "markdown",
   "metadata": {},
   "source": [
    "The `os` library has a function called `scandir` which **scan**s a particular **dir**ectory (folder). It takes one argument: the directory you want to scan. For example if, in the folder that this Notebook is in, you had a folder called `Chemicals`, you could 'scan' it with `os.scandir(\"Chemicals\")`.\n",
    "\n",
    "✏️ Scan the directory with the IR data text files in. What does this return?"
   ]
  },
  {
   "cell_type": "code",
   "execution_count": 14,
   "metadata": {},
   "outputs": [
    {
     "data": {
      "text/plain": [
       "<nt.ScandirIterator at 0x1aeba065800>"
      ]
     },
     "execution_count": 14,
     "metadata": {},
     "output_type": "execute_result"
    }
   ],
   "source": [
    "os.scandir('Data')"
   ]
  },
  {
   "cell_type": "markdown",
   "metadata": {},
   "source": [
    "The `scandir` function returns something called a `ScandirIterator`. The word 'iterator' might suggest to you that a for loop could be helpful."
   ]
  },
  {
   "cell_type": "markdown",
   "metadata": {},
   "source": [
    "✏️ Try iteratively printing the contents of the `ScandirIterator` object as output to see what happens."
   ]
  },
  {
   "cell_type": "code",
   "execution_count": 15,
   "metadata": {},
   "outputs": [
    {
     "name": "stdout",
     "output_type": "stream",
     "text": [
      "<DirEntry 'm-anisaldehyde_1.txt'>\n",
      "<DirEntry 'm-anisaldehyde_2.txt'>\n",
      "<DirEntry 'm-anisaldehyde_3.txt'>\n",
      "<DirEntry 'm-anisaldehyde_4.txt'>\n",
      "<DirEntry 'm-anisaldehyde_5.txt'>\n"
     ]
    }
   ],
   "source": [
    "for file in os.scandir('Data'):\n",
    "    print(file)"
   ]
  },
  {
   "cell_type": "markdown",
   "metadata": {},
   "source": [
    "The output should give a series of `DirEntry`s, which seem to be all of the files in the directory/folder. So the `ScandirIterator` seems to contain the identities of all of the files in the directory. Each `DirEntry` object comes with an **attribute**, `name`."
   ]
  },
  {
   "cell_type": "markdown",
   "metadata": {},
   "source": [
    "✏️ Using a similar loop, generate a *list* of all the file names (you may want to use `.append()`). Print your list to confirm it has been created succesfully.\n",
    "<br>\n",
    "<br>\n",
    "**Note:**\n",
    ">Due to a bug/feature of `scandir()`, you may need to re-load (with `scandir()`) the folder before iterating through the files again*"
   ]
  },
  {
   "cell_type": "code",
   "execution_count": 16,
   "metadata": {},
   "outputs": [
    {
     "name": "stdout",
     "output_type": "stream",
     "text": [
      "['m-anisaldehyde_1.txt', 'm-anisaldehyde_2.txt', 'm-anisaldehyde_3.txt', 'm-anisaldehyde_4.txt', 'm-anisaldehyde_5.txt']\n"
     ]
    }
   ],
   "source": [
    "filenames=[file.name for file in os.scandir('Data')]\n",
    "print(filenames)"
   ]
  },
  {
   "cell_type": "markdown",
   "metadata": {},
   "source": [
    "By reading through the contents of the list, you will hopefully appreciate why this method is important to employ. This time taken to type out all of the file names manually and without error would be considerable."
   ]
  },
  {
   "cell_type": "markdown",
   "metadata": {},
   "source": [
    "✏️ Using your new list of all the .txt file names, create a list in which each entry is a separate DataFrame for each spectrum in `IR Data`. Print the fifth DataFrame in your list to confirm its contents."
   ]
  },
  {
   "cell_type": "code",
   "execution_count": 18,
   "metadata": {
    "scrolled": true
   },
   "outputs": [
    {
     "data": {
      "text/html": [
       "<div>\n",
       "<style scoped>\n",
       "    .dataframe tbody tr th:only-of-type {\n",
       "        vertical-align: middle;\n",
       "    }\n",
       "\n",
       "    .dataframe tbody tr th {\n",
       "        vertical-align: top;\n",
       "    }\n",
       "\n",
       "    .dataframe thead th {\n",
       "        text-align: right;\n",
       "    }\n",
       "</style>\n",
       "<table border=\"1\" class=\"dataframe\">\n",
       "  <thead>\n",
       "    <tr style=\"text-align: right;\">\n",
       "      <th></th>\n",
       "      <th>m-anisaldehyde_1.txt</th>\n",
       "    </tr>\n",
       "  </thead>\n",
       "  <tbody>\n",
       "    <tr>\n",
       "      <th>399.826377</th>\n",
       "      <td>92.012424</td>\n",
       "    </tr>\n",
       "    <tr>\n",
       "      <th>400.183684</th>\n",
       "      <td>94.958885</td>\n",
       "    </tr>\n",
       "    <tr>\n",
       "      <th>400.540991</th>\n",
       "      <td>97.443201</td>\n",
       "    </tr>\n",
       "    <tr>\n",
       "      <th>400.898298</th>\n",
       "      <td>97.642822</td>\n",
       "    </tr>\n",
       "    <tr>\n",
       "      <th>401.255605</th>\n",
       "      <td>95.774480</td>\n",
       "    </tr>\n",
       "  </tbody>\n",
       "</table>\n",
       "</div>"
      ],
      "text/plain": [
       "            m-anisaldehyde_1.txt\n",
       "399.826377             92.012424\n",
       "400.183684             94.958885\n",
       "400.540991             97.443201\n",
       "400.898298             97.642822\n",
       "401.255605             95.774480"
      ]
     },
     "execution_count": 18,
     "metadata": {},
     "output_type": "execute_result"
    }
   ],
   "source": [
    "IRData=[pd.read_csv(f\"data/{file}\",skiprows=4,delimiter=\"\\s+\",names=[file],index_col=0) for file in filenames]\n",
    "IRData[0].head()"
   ]
  },
  {
   "cell_type": "markdown",
   "metadata": {},
   "source": [
    "✏️ Now alter your code so that you pre-process the spectral data in each DataFrame, i.e. run it through the three functions in your library, before adding it to the list. Print the fifth DataFrame again, and make sure it's changed - it should start at 630 $cm^{-1}$ and have transmittance values much less than 1.\n",
    "\n",
    "**Note:**\n",
    ">Recall that the pre-processing functions should be applied in the order: normalise → interpolate → narrow.\n",
    ">\n",
    ">The import and processing of all spectral data will take a little time. Be patient."
   ]
  },
  {
   "cell_type": "code",
   "execution_count": 69,
   "metadata": {},
   "outputs": [
    {
     "data": {
      "text/html": [
       "<div>\n",
       "<style scoped>\n",
       "    .dataframe tbody tr th:only-of-type {\n",
       "        vertical-align: middle;\n",
       "    }\n",
       "\n",
       "    .dataframe tbody tr th {\n",
       "        vertical-align: top;\n",
       "    }\n",
       "\n",
       "    .dataframe thead th {\n",
       "        text-align: right;\n",
       "    }\n",
       "</style>\n",
       "<table border=\"1\" class=\"dataframe\">\n",
       "  <thead>\n",
       "    <tr style=\"text-align: right;\">\n",
       "      <th></th>\n",
       "      <th>m-anisaldehyde_1.txt</th>\n",
       "    </tr>\n",
       "  </thead>\n",
       "  <tbody>\n",
       "    <tr>\n",
       "      <th>630</th>\n",
       "      <td>0.000264</td>\n",
       "    </tr>\n",
       "    <tr>\n",
       "      <th>631</th>\n",
       "      <td>0.000265</td>\n",
       "    </tr>\n",
       "    <tr>\n",
       "      <th>632</th>\n",
       "      <td>0.000262</td>\n",
       "    </tr>\n",
       "    <tr>\n",
       "      <th>633</th>\n",
       "      <td>0.000258</td>\n",
       "    </tr>\n",
       "    <tr>\n",
       "      <th>634</th>\n",
       "      <td>0.000255</td>\n",
       "    </tr>\n",
       "  </tbody>\n",
       "</table>\n",
       "</div>"
      ],
      "text/plain": [
       "     m-anisaldehyde_1.txt\n",
       "630              0.000264\n",
       "631              0.000265\n",
       "632              0.000262\n",
       "633              0.000258\n",
       "634              0.000255"
      ]
     },
     "execution_count": 69,
     "metadata": {},
     "output_type": "execute_result"
    }
   ],
   "source": [
    "IRData=[Narrow(Normalise(Interpolate(pd.read_csv(f\"data/{file}\",skiprows=4,delimiter=\"\\s+\",names=[file],index_col=0)))) for file in filenames]\n",
    "IRData[0].head()\n"
   ]
  },
  {
   "cell_type": "markdown",
   "metadata": {},
   "source": [
    "In the previous notebook, you used the `concat()` function of the `pandas` library to join to DataFrames together into one long column, prior to sorting. It is also possible to join two DataFrames along the other axis to produce a two column DataFrame. This is done by specifying the argument `axis=1`."
   ]
  },
  {
   "cell_type": "markdown",
   "metadata": {},
   "source": [
    "✏️ From from your list of DataFrames, create a single DataFrame containing all the spectra as individual columns. It should be 251 rows × 380 columns."
   ]
  },
  {
   "cell_type": "code",
   "execution_count": null,
   "id": "43b446ff",
   "metadata": {},
   "outputs": [
    {
     "name": "stdout",
     "output_type": "stream",
     "text": [
      "     m-anisaldehyde_1.txt\n",
      "630              0.000264\n",
      "631              0.000265\n",
      "632              0.000262\n",
      "633              0.000258\n",
      "634              0.000255\n",
      "..                    ...\n",
      "876              0.000238\n",
      "877              0.000238\n",
      "878              0.000237\n",
      "879              0.000238\n",
      "880              0.000239\n",
      "\n",
      "[251 rows x 1 columns]\n"
     ]
    },
    {
     "data": {
      "text/html": [
       "<div>\n",
       "<style scoped>\n",
       "    .dataframe tbody tr th:only-of-type {\n",
       "        vertical-align: middle;\n",
       "    }\n",
       "\n",
       "    .dataframe tbody tr th {\n",
       "        vertical-align: top;\n",
       "    }\n",
       "\n",
       "    .dataframe thead th {\n",
       "        text-align: right;\n",
       "    }\n",
       "</style>\n",
       "<table border=\"1\" class=\"dataframe\">\n",
       "  <thead>\n",
       "    <tr style=\"text-align: right;\">\n",
       "      <th></th>\n",
       "      <th>m-anisaldehyde_1.txt</th>\n",
       "      <th>m-anisaldehyde_2.txt</th>\n",
       "      <th>m-anisaldehyde_3.txt</th>\n",
       "      <th>m-anisaldehyde_4.txt</th>\n",
       "      <th>m-anisaldehyde_5.txt</th>\n",
       "    </tr>\n",
       "  </thead>\n",
       "  <tbody>\n",
       "    <tr>\n",
       "      <th>630</th>\n",
       "      <td>0.000264</td>\n",
       "      <td>0.000265</td>\n",
       "      <td>0.000264</td>\n",
       "      <td>0.000267</td>\n",
       "      <td>0.000265</td>\n",
       "    </tr>\n",
       "    <tr>\n",
       "      <th>631</th>\n",
       "      <td>0.000265</td>\n",
       "      <td>0.000266</td>\n",
       "      <td>0.000263</td>\n",
       "      <td>0.000265</td>\n",
       "      <td>0.000264</td>\n",
       "    </tr>\n",
       "    <tr>\n",
       "      <th>632</th>\n",
       "      <td>0.000262</td>\n",
       "      <td>0.000262</td>\n",
       "      <td>0.000263</td>\n",
       "      <td>0.000264</td>\n",
       "      <td>0.000263</td>\n",
       "    </tr>\n",
       "    <tr>\n",
       "      <th>633</th>\n",
       "      <td>0.000258</td>\n",
       "      <td>0.000258</td>\n",
       "      <td>0.000258</td>\n",
       "      <td>0.000260</td>\n",
       "      <td>0.000259</td>\n",
       "    </tr>\n",
       "    <tr>\n",
       "      <th>634</th>\n",
       "      <td>0.000255</td>\n",
       "      <td>0.000254</td>\n",
       "      <td>0.000256</td>\n",
       "      <td>0.000256</td>\n",
       "      <td>0.000258</td>\n",
       "    </tr>\n",
       "  </tbody>\n",
       "</table>\n",
       "</div>"
      ],
      "text/plain": [
       "     m-anisaldehyde_1.txt  m-anisaldehyde_2.txt  m-anisaldehyde_3.txt  \\\n",
       "630              0.000264              0.000265              0.000264   \n",
       "631              0.000265              0.000266              0.000263   \n",
       "632              0.000262              0.000262              0.000263   \n",
       "633              0.000258              0.000258              0.000258   \n",
       "634              0.000255              0.000254              0.000256   \n",
       "\n",
       "     m-anisaldehyde_4.txt  m-anisaldehyde_5.txt  \n",
       "630              0.000267              0.000265  \n",
       "631              0.000265              0.000264  \n",
       "632              0.000264              0.000263  \n",
       "633              0.000260              0.000259  \n",
       "634              0.000256              0.000258  "
      ]
     },
     "execution_count": 70,
     "metadata": {},
     "output_type": "execute_result"
    }
   ],
   "source": [
    "x=IRData.pop(0)\n",
    "while IRData!=[]:\n",
    "    x=pd.concat([x,IRData.pop(0)],axis=1)\n",
    "x.head()"
   ]
  },
  {
   "cell_type": "markdown",
   "metadata": {},
   "source": [
    "✏️ Add the code you have just written into a function in your library, called `load_spectra()`. The function should returns a DataFrame just like the one above. Call your function to check it works."
   ]
  },
  {
   "cell_type": "code",
   "execution_count": 74,
   "metadata": {},
   "outputs": [
    {
     "data": {
      "text/html": [
       "<div>\n",
       "<style scoped>\n",
       "    .dataframe tbody tr th:only-of-type {\n",
       "        vertical-align: middle;\n",
       "    }\n",
       "\n",
       "    .dataframe tbody tr th {\n",
       "        vertical-align: top;\n",
       "    }\n",
       "\n",
       "    .dataframe thead th {\n",
       "        text-align: right;\n",
       "    }\n",
       "</style>\n",
       "<table border=\"1\" class=\"dataframe\">\n",
       "  <thead>\n",
       "    <tr style=\"text-align: right;\">\n",
       "      <th></th>\n",
       "      <th>m-anisaldehyde_1</th>\n",
       "      <th>m-anisaldehyde_2</th>\n",
       "      <th>m-anisaldehyde_3</th>\n",
       "      <th>m-anisaldehyde_4</th>\n",
       "      <th>m-anisaldehyde_5</th>\n",
       "    </tr>\n",
       "  </thead>\n",
       "  <tbody>\n",
       "    <tr>\n",
       "      <th>630</th>\n",
       "      <td>0.000264</td>\n",
       "      <td>0.000265</td>\n",
       "      <td>0.000264</td>\n",
       "      <td>0.000267</td>\n",
       "      <td>0.000265</td>\n",
       "    </tr>\n",
       "    <tr>\n",
       "      <th>631</th>\n",
       "      <td>0.000265</td>\n",
       "      <td>0.000266</td>\n",
       "      <td>0.000263</td>\n",
       "      <td>0.000265</td>\n",
       "      <td>0.000264</td>\n",
       "    </tr>\n",
       "    <tr>\n",
       "      <th>632</th>\n",
       "      <td>0.000262</td>\n",
       "      <td>0.000262</td>\n",
       "      <td>0.000263</td>\n",
       "      <td>0.000264</td>\n",
       "      <td>0.000263</td>\n",
       "    </tr>\n",
       "    <tr>\n",
       "      <th>633</th>\n",
       "      <td>0.000258</td>\n",
       "      <td>0.000258</td>\n",
       "      <td>0.000258</td>\n",
       "      <td>0.000260</td>\n",
       "      <td>0.000259</td>\n",
       "    </tr>\n",
       "    <tr>\n",
       "      <th>634</th>\n",
       "      <td>0.000255</td>\n",
       "      <td>0.000254</td>\n",
       "      <td>0.000256</td>\n",
       "      <td>0.000256</td>\n",
       "      <td>0.000258</td>\n",
       "    </tr>\n",
       "    <tr>\n",
       "      <th>...</th>\n",
       "      <td>...</td>\n",
       "      <td>...</td>\n",
       "      <td>...</td>\n",
       "      <td>...</td>\n",
       "      <td>...</td>\n",
       "    </tr>\n",
       "    <tr>\n",
       "      <th>876</th>\n",
       "      <td>0.000238</td>\n",
       "      <td>0.000237</td>\n",
       "      <td>0.000239</td>\n",
       "      <td>0.000237</td>\n",
       "      <td>0.000235</td>\n",
       "    </tr>\n",
       "    <tr>\n",
       "      <th>877</th>\n",
       "      <td>0.000238</td>\n",
       "      <td>0.000235</td>\n",
       "      <td>0.000241</td>\n",
       "      <td>0.000240</td>\n",
       "      <td>0.000235</td>\n",
       "    </tr>\n",
       "    <tr>\n",
       "      <th>878</th>\n",
       "      <td>0.000237</td>\n",
       "      <td>0.000237</td>\n",
       "      <td>0.000244</td>\n",
       "      <td>0.000239</td>\n",
       "      <td>0.000239</td>\n",
       "    </tr>\n",
       "    <tr>\n",
       "      <th>879</th>\n",
       "      <td>0.000238</td>\n",
       "      <td>0.000239</td>\n",
       "      <td>0.000240</td>\n",
       "      <td>0.000239</td>\n",
       "      <td>0.000241</td>\n",
       "    </tr>\n",
       "    <tr>\n",
       "      <th>880</th>\n",
       "      <td>0.000239</td>\n",
       "      <td>0.000239</td>\n",
       "      <td>0.000242</td>\n",
       "      <td>0.000238</td>\n",
       "      <td>0.000237</td>\n",
       "    </tr>\n",
       "  </tbody>\n",
       "</table>\n",
       "<p>251 rows × 5 columns</p>\n",
       "</div>"
      ],
      "text/plain": [
       "     m-anisaldehyde_1  m-anisaldehyde_2  m-anisaldehyde_3  m-anisaldehyde_4  \\\n",
       "630          0.000264          0.000265          0.000264          0.000267   \n",
       "631          0.000265          0.000266          0.000263          0.000265   \n",
       "632          0.000262          0.000262          0.000263          0.000264   \n",
       "633          0.000258          0.000258          0.000258          0.000260   \n",
       "634          0.000255          0.000254          0.000256          0.000256   \n",
       "..                ...               ...               ...               ...   \n",
       "876          0.000238          0.000237          0.000239          0.000237   \n",
       "877          0.000238          0.000235          0.000241          0.000240   \n",
       "878          0.000237          0.000237          0.000244          0.000239   \n",
       "879          0.000238          0.000239          0.000240          0.000239   \n",
       "880          0.000239          0.000239          0.000242          0.000238   \n",
       "\n",
       "     m-anisaldehyde_5  \n",
       "630          0.000265  \n",
       "631          0.000264  \n",
       "632          0.000263  \n",
       "633          0.000259  \n",
       "634          0.000258  \n",
       "..                ...  \n",
       "876          0.000235  \n",
       "877          0.000235  \n",
       "878          0.000239  \n",
       "879          0.000241  \n",
       "880          0.000237  \n",
       "\n",
       "[251 rows x 5 columns]"
      ]
     },
     "execution_count": 74,
     "metadata": {},
     "output_type": "execute_result"
    }
   ],
   "source": [
    "#This code reloads your library so that you can use the function you just added.\n",
    "import importlib\n",
    "importlib.reload(C317)\n",
    "C317.load_spectra()"
   ]
  },
  {
   "cell_type": "markdown",
   "metadata": {},
   "source": [
    "---"
   ]
  }
 ],
 "metadata": {
  "kernelspec": {
   "display_name": "base",
   "language": "python",
   "name": "python3"
  },
  "language_info": {
   "codemirror_mode": {
    "name": "ipython",
    "version": 3
   },
   "file_extension": ".py",
   "mimetype": "text/x-python",
   "name": "python",
   "nbconvert_exporter": "python",
   "pygments_lexer": "ipython3",
   "version": "3.11.5"
  }
 },
 "nbformat": 4,
 "nbformat_minor": 5
}
