{
 "cells": [
  {
   "cell_type": "markdown",
   "metadata": {},
   "source": [
    "# 4 Pandas Introduction"
   ]
  },
  {
   "cell_type": "markdown",
   "metadata": {},
   "source": [
    "This notebook will introduce you to the `pandas` library which facilitates the use of DataFrames, a data object which behaves a lot like a table.\n",
    "<br>\n",
    "<br>You will be instructed on how to construct and manipulate these DataFrames to facilitate information storage and retrieval."
   ]
  },
  {
   "cell_type": "markdown",
   "metadata": {},
   "source": [
    "---"
   ]
  },
  {
   "cell_type": "markdown",
   "metadata": {},
   "source": [
    "In notebook 1, you were reminded how a single dataset can be passed to `matplotlib.pyplot.plot()` as two lists, one containing x values and one containing y values. An example that will be used a lot later in this exercise is the IR spectrum, with the x variable being wavenumber and y being % Transmittance.\n",
    "<br>\n",
    "<br>While, in principle, it is possible to store many datasets in the same way, each with a corresponding x and y list (differently named for each dataset), this method of data storage very quickly becomes unwieldy. In cases where many datasets share a list of x values, it would make much more sense to store different y lists within a single data object and retrieve entries from that object as needed. The `pandas` library allows for the creation an object called a DataFrame to aid in this.\n",
    "<br>\n",
    "<br>At its core, a DataFrame is a multi-dimensional matrix, presented in an easy to read table. A DataFrame consists of a series of columns, each with a title/name, and a series of rows, each with a label/index. The row labels are called an index, so each value in each column across a row has the same index value.\n",
    "<br>\n",
    "<br>The use of an index works well for storing multiple sets of IR data, since, provided all data were recorded in the same manner, each wavenumber recorded will have the same index."
   ]
  },
  {
   "cell_type": "markdown",
   "metadata": {},
   "source": [
    "✏️ Import the `pandas` library, so that you can make your own DataFrame object.\n",
    "\n",
    "*Hint: You might want to make use of the `as` keyword, so that you don't have to write 'pandas' out so much. A common abbreviation for `pandas` is `pd`.*"
   ]
  },
  {
   "cell_type": "code",
   "execution_count": 4,
   "metadata": {},
   "outputs": [],
   "source": [
    "import pandas as pd\n"
   ]
  },
  {
   "cell_type": "markdown",
   "metadata": {},
   "source": [
    "A DataFrame is a data structure, like a variable or a list. Instead of holding a single value (like a variable), or a series of values (like a list), it holds a table of values.\n",
    "<br>\n",
    "<br>A `pandas` DataFrame is defined in the following manner:\n",
    "<br>\n",
    "<br>`df = pd.DataFrame(data=[], index =[], columns=[])`\n",
    "<br>\n",
    "<br>`data` takes the entries that will be held in the body of the table. If the table is to have more than one column, the data should be provided as lists corrsponding to each row, containing the entries running from left to right.\n",
    "<br>\n",
    "<br>`index` is a list of row titles. These can be numbers for reference, or strings, for example.\n",
    "<br>\n",
    "<br>`columns` is a list of column titles. Again, these can be numbers or strings, for example.\n",
    "<br>\n",
    "<br>A very basic 2x2 example is provided by the code below."
   ]
  },
  {
   "cell_type": "code",
   "execution_count": 2,
   "metadata": {},
   "outputs": [
    {
     "name": "stdout",
     "output_type": "stream",
     "text": [
      "        Column 1   Column 2\n",
      "Row 1  Entry 1 1  Entry 1 2\n",
      "Row 2  Entry 2 1  Entry 2 2\n"
     ]
    }
   ],
   "source": [
    "df = pd.DataFrame(data=[[\"Entry 1 1\",\"Entry 1 2\"],[\"Entry 2 1\",\"Entry 2 2\"]],index=[\"Row 1\",\"Row 2\"],columns=[\"Column 1\",\"Column 2\"])\n",
    "print(df)"
   ]
  },
  {
   "cell_type": "markdown",
   "metadata": {},
   "source": [
    "✏️ Make a new 'DataFrame' object, with a sensible name. Use the documentation to show you which arguments to use. Try to recreate the melting/boiling point table below.\n",
    ">|       | Ethanol      | Ethane |\n",
    ">| -----------      | ----------- | ----------- |\n",
    ">| **Melting point**      | -114      | -183       |\n",
    ">| **Boiling point**      | 78   | -89        |"
   ]
  },
  {
   "cell_type": "code",
   "execution_count": 13,
   "metadata": {},
   "outputs": [
    {
     "name": "stdout",
     "output_type": "stream",
     "text": [
      "               Ethanol  Ethane\n",
      "Melting point     -114    -183\n",
      "Boiling point       78     -89\n"
     ]
    }
   ],
   "source": [
    "df=pd.DataFrame(data=[[-114,-183],[78,-89]],index=['Melting point','Boiling point'],columns=['Ethanol','Ethane'])\n",
    "print(df)"
   ]
  },
  {
   "cell_type": "markdown",
   "metadata": {},
   "source": [
    "Some terms relating to machine learning and DataFrames that will come up later, but are worth mentioning from the outset.\n",
    ">\n",
    ">**Samples -** These are overall sets of data, i.e. columns in the DataFrame that you reproduced above.\n",
    ">\n",
    ">**Features -** These are subcategories which the data in each sample are divided into and correspond to the rows of the DataFrame above (**Melting point** and **Boiling point**). For IR spectra, these would be the wavenumber at which each transmittance is measured.\n",
    ">\n",
    ">**Values -** These are the entries in the table itself, i.e. the temperatures recorded in the DataFrame above. For IR spectra, these would correspond to the measured % Transmittance values."
   ]
  },
  {
   "cell_type": "markdown",
   "metadata": {},
   "source": [
    "✏️ DataFrame objects have a useful method called `.head()`, which prints out the first 5 lines of the DataFrame. Use the `head` method to see if your DataFrame is correct. Make adjustments to your original definition, if it is not."
   ]
  },
  {
   "cell_type": "code",
   "execution_count": 10,
   "metadata": {},
   "outputs": [
    {
     "data": {
      "text/html": [
       "<div>\n",
       "<style scoped>\n",
       "    .dataframe tbody tr th:only-of-type {\n",
       "        vertical-align: middle;\n",
       "    }\n",
       "\n",
       "    .dataframe tbody tr th {\n",
       "        vertical-align: top;\n",
       "    }\n",
       "\n",
       "    .dataframe thead th {\n",
       "        text-align: right;\n",
       "    }\n",
       "</style>\n",
       "<table border=\"1\" class=\"dataframe\">\n",
       "  <thead>\n",
       "    <tr style=\"text-align: right;\">\n",
       "      <th></th>\n",
       "      <th>Ethanol</th>\n",
       "      <th>Ethane</th>\n",
       "    </tr>\n",
       "  </thead>\n",
       "  <tbody>\n",
       "    <tr>\n",
       "      <th>Melting point</th>\n",
       "      <td>-114</td>\n",
       "      <td>-183</td>\n",
       "    </tr>\n",
       "    <tr>\n",
       "      <th>Boiling point</th>\n",
       "      <td>78</td>\n",
       "      <td>-89</td>\n",
       "    </tr>\n",
       "  </tbody>\n",
       "</table>\n",
       "</div>"
      ],
      "text/plain": [
       "               Ethanol  Ethane\n",
       "Melting point     -114    -183\n",
       "Boiling point       78     -89"
      ]
     },
     "execution_count": 10,
     "metadata": {},
     "output_type": "execute_result"
    }
   ],
   "source": [
    "df.head()"
   ]
  },
  {
   "cell_type": "markdown",
   "metadata": {},
   "source": [
    "We can extract a column from a DataFrame in a similar way to that in which we extract a single value from a list.\n",
    "<br>\n",
    "<br>For a list `constants = [3.14, 8.314, 300000000]`, `constants[0]` gives `3.14`, the 0th element of the list.\n",
    "<br>\n",
    "<br>For a DataFrame, `dataframe[\"column_name\"]` will pull out the column with that name."
   ]
  },
  {
   "cell_type": "markdown",
   "metadata": {},
   "source": [
    "✏️ What are the melting and boiling points of *ethane*? Extract the relevant column from your previously defined DataFrame."
   ]
  },
  {
   "cell_type": "code",
   "execution_count": 17,
   "metadata": {},
   "outputs": [
    {
     "data": {
      "text/plain": [
       "Melting point   -183\n",
       "Boiling point    -89\n",
       "Name: Ethane, dtype: int64"
      ]
     },
     "execution_count": 17,
     "metadata": {},
     "output_type": "execute_result"
    }
   ],
   "source": [
    "df['Ethane']"
   ]
  },
  {
   "cell_type": "markdown",
   "metadata": {},
   "source": [
    "**Note:**\n",
    ">The single column a DataFrame returned from this command is also called a **Series**."
   ]
  },
  {
   "cell_type": "markdown",
   "metadata": {},
   "source": [
    "The `.loc[index_value]` method pulls a *row* (with index \"index_value\") from a DataFrame."
   ]
  },
  {
   "cell_type": "markdown",
   "metadata": {},
   "source": [
    "✏️ What are the melting points of ethanol and ethane? Use the `.loc[]` method to extract these values."
   ]
  },
  {
   "cell_type": "code",
   "execution_count": 18,
   "metadata": {},
   "outputs": [
    {
     "data": {
      "text/plain": [
       "Ethanol   -114\n",
       "Ethane    -183\n",
       "Name: Melting point, dtype: int64"
      ]
     },
     "execution_count": 18,
     "metadata": {},
     "output_type": "execute_result"
    }
   ],
   "source": [
    "df.loc['Melting point']"
   ]
  },
  {
   "cell_type": "markdown",
   "metadata": {},
   "source": [
    "✏️ Try putting these two things together to pull out just the melting point of ethanol."
   ]
  },
  {
   "cell_type": "code",
   "execution_count": 23,
   "metadata": {},
   "outputs": [
    {
     "data": {
      "text/plain": [
       "-114"
      ]
     },
     "execution_count": 23,
     "metadata": {},
     "output_type": "execute_result"
    }
   ],
   "source": [
    "df['Ethanol'].loc['Melting point']"
   ]
  },
  {
   "cell_type": "markdown",
   "metadata": {},
   "source": [
    "The `.iloc[i]` method is very similar to `.loc[index_value]`, except it gives you the `i-1`th row, rather than the row with index `index_value`. This can be useful, for example, if you remember the row number that contains a data entry, but not the name that you have given to the row."
   ]
  },
  {
   "cell_type": "markdown",
   "metadata": {},
   "source": [
    "✏️ Given that it is contained within the **first** row of the DataFrame, use the `iloc[]` method to pull out just the melting point of ethanol."
   ]
  },
  {
   "cell_type": "code",
   "execution_count": 27,
   "metadata": {},
   "outputs": [
    {
     "data": {
      "text/plain": [
       "-114"
      ]
     },
     "execution_count": 27,
     "metadata": {},
     "output_type": "execute_result"
    }
   ],
   "source": [
    "df['Ethanol'].iloc[0]"
   ]
  },
  {
   "cell_type": "markdown",
   "metadata": {},
   "source": [
    "---"
   ]
  },
  {
   "cell_type": "markdown",
   "metadata": {},
   "source": [
    "We're now going to look at some actual IR data.\n",
    "<br>\n",
    "<br>We've seen that we can create a DataFrame from a list of lists (a bit like a matrix):"
   ]
  },
  {
   "cell_type": "code",
   "execution_count": 28,
   "metadata": {},
   "outputs": [
    {
     "data": {
      "text/html": [
       "<div>\n",
       "<style scoped>\n",
       "    .dataframe tbody tr th:only-of-type {\n",
       "        vertical-align: middle;\n",
       "    }\n",
       "\n",
       "    .dataframe tbody tr th {\n",
       "        vertical-align: top;\n",
       "    }\n",
       "\n",
       "    .dataframe thead th {\n",
       "        text-align: right;\n",
       "    }\n",
       "</style>\n",
       "<table border=\"1\" class=\"dataframe\">\n",
       "  <thead>\n",
       "    <tr style=\"text-align: right;\">\n",
       "      <th></th>\n",
       "      <th>Col1</th>\n",
       "      <th>Col2</th>\n",
       "    </tr>\n",
       "  </thead>\n",
       "  <tbody>\n",
       "    <tr>\n",
       "      <th>0</th>\n",
       "      <td>1</td>\n",
       "      <td>2</td>\n",
       "    </tr>\n",
       "    <tr>\n",
       "      <th>1</th>\n",
       "      <td>3</td>\n",
       "      <td>4</td>\n",
       "    </tr>\n",
       "  </tbody>\n",
       "</table>\n",
       "</div>"
      ],
      "text/plain": [
       "   Col1  Col2\n",
       "0     1     2\n",
       "1     3     4"
      ]
     },
     "execution_count": 28,
     "metadata": {},
     "output_type": "execute_result"
    }
   ],
   "source": [
    "df = pd.DataFrame([[1, 2], [3, 4]], columns=[\"Col1\", \"Col2\"])\n",
    "df.head()"
   ]
  },
  {
   "cell_type": "markdown",
   "metadata": {},
   "source": [
    "But when you have thousands of datapoints (like in an IR spectrum), typing this out this gets unmanageable.\n",
    "<br>\n",
    "<br> Instead, we can use the `read_csv()` function of the `pandas` library to take in the data for your DataFrame from a file. This could be a *.csv* file (a stripped down version of an Excel file), or a *.txt* file. The IR machines in the CTL produce a *.txt* file when you export, so we will proceed with this format.\n",
    "<br>\n",
    "<br>**Note:** The IR spectra provided as *.txt* files are named systematically such that the initial character of each file represents the subsitution pattern (ortho/meta/para), the name of the chemical comes second, and the repeat number (between 1 and 5) comes third, e.g. *m-nitrophenol_1.txt*."
   ]
  },
  {
   "cell_type": "markdown",
   "metadata": {},
   "source": [
    "✏️ You should have downloaded a folder called `IR Data` from Canvas. Take the the example file, `m-anisaldehyde_1.txt`. This is the first IR spectrum repeat (of five) of the the chemical, m-anisaldehyde. The *path* to this file will be 'the folder name/the file name'.\n",
    "<br>\n",
    "<br>Use the `read_csv()` function to create a new DataFrame from `m-anisaldehyde_1.txt`.\n",
    "Don't worry about any arguments other than `path` for now.\n",
    "<br>\n",
    "<br>*Call your DataFrame `m_anisaldehyde_1` - note that there is no dash, as Python doesn'y accept dashes in variable names.*\n",
    "<br>\n",
    "<br>Use the `.head()` method to check if the DataFrame looks as expected."
   ]
  },
  {
   "cell_type": "code",
   "execution_count": 37,
   "metadata": {},
   "outputs": [
    {
     "data": {
      "text/html": [
       "<div>\n",
       "<style scoped>\n",
       "    .dataframe tbody tr th:only-of-type {\n",
       "        vertical-align: middle;\n",
       "    }\n",
       "\n",
       "    .dataframe tbody tr th {\n",
       "        vertical-align: top;\n",
       "    }\n",
       "\n",
       "    .dataframe thead th {\n",
       "        text-align: right;\n",
       "    }\n",
       "</style>\n",
       "<table border=\"1\" class=\"dataframe\">\n",
       "  <thead>\n",
       "    <tr style=\"text-align: right;\">\n",
       "      <th></th>\n",
       "      <th>##TITLE=N1_m-anisaldehyde_1</th>\n",
       "    </tr>\n",
       "  </thead>\n",
       "  <tbody>\n",
       "    <tr>\n",
       "      <th>0</th>\n",
       "      <td>##DATA TYPE=INFRARED SPECTRUM</td>\n",
       "    </tr>\n",
       "    <tr>\n",
       "      <th>1</th>\n",
       "      <td>##XUNITS=1/CM</td>\n",
       "    </tr>\n",
       "    <tr>\n",
       "      <th>2</th>\n",
       "      <td>##YUNITS=%T</td>\n",
       "    </tr>\n",
       "    <tr>\n",
       "      <th>3</th>\n",
       "      <td>399.826377  \\t92.012424</td>\n",
       "    </tr>\n",
       "    <tr>\n",
       "      <th>4</th>\n",
       "      <td>400.183684  \\t94.958885</td>\n",
       "    </tr>\n",
       "  </tbody>\n",
       "</table>\n",
       "</div>"
      ],
      "text/plain": [
       "     ##TITLE=N1_m-anisaldehyde_1\n",
       "0  ##DATA TYPE=INFRARED SPECTRUM\n",
       "1                  ##XUNITS=1/CM\n",
       "2                    ##YUNITS=%T\n",
       "3       399.826377  \\t92.012424 \n",
       "4       400.183684  \\t94.958885 "
      ]
     },
     "execution_count": 37,
     "metadata": {},
     "output_type": "execute_result"
    }
   ],
   "source": [
    "m_anisaldehyde_1=pd.read_csv('data/m-anisaldehyde_1.txt')\n",
    "m_anisaldehyde_1.head()"
   ]
  },
  {
   "cell_type": "markdown",
   "metadata": {},
   "source": [
    "The data's all there, but it looks a bit off. You can try opening the *.txt* file to see how the head of the DataFrame relates to the information stored in the file.\n",
    "<br>\n",
    "<br>You should notice that the first four rows of the *.txt* file do not contain spectral data. We can ignore these with the argument `skipsrows=4`.\n",
    "<br>\n",
    "<br>In lines 3 and 4 of your head above you will see that the wavenumber and the % Transmission have been grouped into the same cell entry. This is because the `read_csv()` function is expecting a CSV in which a comma would separate separate columns in a table. We can correct this by informing `read_csv` that the entries in our data are separated by spaces using the argument, `delimiter=\"\\s+\"`.\n",
    "<br>\n",
    "<br>In the same manner as above, we should also state some column headings for the DataFrame. When importing files, we use the argument `names=[]`, rather than `columns=[]` outlined earlier. The columns should be called \"Wavelength/cm-1\" and \"% Transmittance\". The first wavelengths should be around 400 cm-1, and the first transmittances around 90-100%."
   ]
  },
  {
   "cell_type": "markdown",
   "metadata": {},
   "source": [
    "✏️ By incorporating the arguments discussed above, read in the file again to give a DataFrame that looks like:\n",
    ">|       | Wavelength /cm-1      | % Transmittance |\n",
    ">| ----------- | ----------- | ----------- |\n",
    ">| 0      | 399.826377      | 92.012424       |\n",
    ">| 1      | 400.183684   | 94.958885        |"
   ]
  },
  {
   "cell_type": "code",
   "execution_count": 38,
   "metadata": {},
   "outputs": [
    {
     "data": {
      "text/html": [
       "<div>\n",
       "<style scoped>\n",
       "    .dataframe tbody tr th:only-of-type {\n",
       "        vertical-align: middle;\n",
       "    }\n",
       "\n",
       "    .dataframe tbody tr th {\n",
       "        vertical-align: top;\n",
       "    }\n",
       "\n",
       "    .dataframe thead th {\n",
       "        text-align: right;\n",
       "    }\n",
       "</style>\n",
       "<table border=\"1\" class=\"dataframe\">\n",
       "  <thead>\n",
       "    <tr style=\"text-align: right;\">\n",
       "      <th></th>\n",
       "      <th>Wavelength/cm-1</th>\n",
       "      <th>% Transmittance</th>\n",
       "    </tr>\n",
       "  </thead>\n",
       "  <tbody>\n",
       "    <tr>\n",
       "      <th>0</th>\n",
       "      <td>399.826377</td>\n",
       "      <td>92.012424</td>\n",
       "    </tr>\n",
       "    <tr>\n",
       "      <th>1</th>\n",
       "      <td>400.183684</td>\n",
       "      <td>94.958885</td>\n",
       "    </tr>\n",
       "    <tr>\n",
       "      <th>2</th>\n",
       "      <td>400.540991</td>\n",
       "      <td>97.443201</td>\n",
       "    </tr>\n",
       "    <tr>\n",
       "      <th>3</th>\n",
       "      <td>400.898298</td>\n",
       "      <td>97.642822</td>\n",
       "    </tr>\n",
       "    <tr>\n",
       "      <th>4</th>\n",
       "      <td>401.255605</td>\n",
       "      <td>95.774480</td>\n",
       "    </tr>\n",
       "  </tbody>\n",
       "</table>\n",
       "</div>"
      ],
      "text/plain": [
       "   Wavelength/cm-1  % Transmittance\n",
       "0       399.826377        92.012424\n",
       "1       400.183684        94.958885\n",
       "2       400.540991        97.443201\n",
       "3       400.898298        97.642822\n",
       "4       401.255605        95.774480"
      ]
     },
     "execution_count": 38,
     "metadata": {},
     "output_type": "execute_result"
    }
   ],
   "source": [
    "m_anisaldehyde_1=pd.read_csv('data/m-anisaldehyde_1.txt',skiprows=4,delimiter=\"\\s+\",names=[\"Wavelength/cm-1\",\"% Transmittance\"])\n",
    "m_anisaldehyde_1.head()"
   ]
  },
  {
   "cell_type": "markdown",
   "metadata": {},
   "source": [
    "✏️ How many rows does the `m_anisaldehyde_1` DataFrame have? Use the documentation linked to below to find an attribute that will return the dimensions of the DataFrame.\n",
    "<br>\n",
    "<br>https://pandas.pydata.org/docs/user_guide/basics.html#attributes-and-underlying-data\n",
    "<br>\n",
    "<br>*Hint: You'll get back something a bit like a list. Use the `[]` notation we've seen before to get a single number - the number of rows.*"
   ]
  },
  {
   "cell_type": "code",
   "execution_count": 41,
   "metadata": {},
   "outputs": [
    {
     "data": {
      "text/plain": [
       "10077"
      ]
     },
     "execution_count": 41,
     "metadata": {},
     "output_type": "execute_result"
    }
   ],
   "source": [
    "m_anisaldehyde_1.shape[0]"
   ]
  },
  {
   "cell_type": "markdown",
   "metadata": {},
   "source": [
    "---"
   ]
  },
  {
   "cell_type": "markdown",
   "metadata": {},
   "source": [
    "The DataFrame currently has an index column (0, 1, 2, ...), a wavelength column, and a trasmittance column. The index column is a bit redundant, and is not of any use. It would be more useful to have the wavelength column as the index.\n",
    "<br>"
   ]
  },
  {
   "cell_type": "markdown",
   "metadata": {},
   "source": [
    "✏️Use the documentation linked to below to find a method that will render the wavelength column as the index of the DataFrame.\n",
    "<br>\n",
    "<br>https://pandas.pydata.org/docs/reference/api/pandas.DataFrame.html"
   ]
  },
  {
   "cell_type": "code",
   "execution_count": 68,
   "metadata": {},
   "outputs": [],
   "source": [
    "df2=pd.DataFrame(data=m_anisaldehyde_1['% Transmittance'],index=m_anisaldehyde_1['Wavelength/cm-1'])\n",
    "m_anisaldehyde_1=df2"
   ]
  },
  {
   "cell_type": "markdown",
   "metadata": {},
   "source": [
    "✏️ What is the transmittance at 414.118652 $cm^{-1}$?"
   ]
  },
  {
   "cell_type": "code",
   "execution_count": 69,
   "metadata": {},
   "outputs": [
    {
     "data": {
      "text/plain": [
       "% Transmittance    90.813631\n",
       "Name: 414.118652, dtype: float64"
      ]
     },
     "execution_count": 69,
     "metadata": {},
     "output_type": "execute_result"
    }
   ],
   "source": [
    "m_anisaldehyde_1.loc[414.118652]"
   ]
  },
  {
   "cell_type": "markdown",
   "metadata": {},
   "source": [
    "---"
   ]
  },
  {
   "cell_type": "markdown",
   "metadata": {},
   "source": [
    "✏️ Let's remind ourselves what the modified DataFrame looks like. Print out the first 5 lines."
   ]
  },
  {
   "cell_type": "code",
   "execution_count": 70,
   "metadata": {},
   "outputs": [
    {
     "data": {
      "text/html": [
       "<div>\n",
       "<style scoped>\n",
       "    .dataframe tbody tr th:only-of-type {\n",
       "        vertical-align: middle;\n",
       "    }\n",
       "\n",
       "    .dataframe tbody tr th {\n",
       "        vertical-align: top;\n",
       "    }\n",
       "\n",
       "    .dataframe thead th {\n",
       "        text-align: right;\n",
       "    }\n",
       "</style>\n",
       "<table border=\"1\" class=\"dataframe\">\n",
       "  <thead>\n",
       "    <tr style=\"text-align: right;\">\n",
       "      <th></th>\n",
       "      <th>% Transmittance</th>\n",
       "    </tr>\n",
       "    <tr>\n",
       "      <th>Wavelength/cm-1</th>\n",
       "      <th></th>\n",
       "    </tr>\n",
       "  </thead>\n",
       "  <tbody>\n",
       "    <tr>\n",
       "      <th>399.826377</th>\n",
       "      <td>92.012424</td>\n",
       "    </tr>\n",
       "    <tr>\n",
       "      <th>400.183684</th>\n",
       "      <td>94.958885</td>\n",
       "    </tr>\n",
       "    <tr>\n",
       "      <th>400.540991</th>\n",
       "      <td>97.443201</td>\n",
       "    </tr>\n",
       "    <tr>\n",
       "      <th>400.898298</th>\n",
       "      <td>97.642822</td>\n",
       "    </tr>\n",
       "    <tr>\n",
       "      <th>401.255605</th>\n",
       "      <td>95.774480</td>\n",
       "    </tr>\n",
       "  </tbody>\n",
       "</table>\n",
       "</div>"
      ],
      "text/plain": [
       "                 % Transmittance\n",
       "Wavelength/cm-1                 \n",
       "399.826377             92.012424\n",
       "400.183684             94.958885\n",
       "400.540991             97.443201\n",
       "400.898298             97.642822\n",
       "401.255605             95.774480"
      ]
     },
     "execution_count": 70,
     "metadata": {},
     "output_type": "execute_result"
    }
   ],
   "source": [
    "m_anisaldehyde_1.head()"
   ]
  },
  {
   "cell_type": "markdown",
   "metadata": {},
   "source": [
    "✏️ Imagine we had found that we'd accidentally used twice as much substance for the `m_anisaldehyde_1` spectrum as for the other repeats, so we wanted to halve all of the transmittance values.\n",
    "<br>\n",
    "<br>The naive way to do this would be to use a for loop to loop through each row, and manually change the value with `iloc`. It turns out that this is a very inefficient method.\n",
    "<br>\n",
    "<br>See what happens if you pull a column from a DataFrame and multiply it by 10."
   ]
  },
  {
   "cell_type": "code",
   "execution_count": 71,
   "metadata": {},
   "outputs": [
    {
     "data": {
      "text/plain": [
       "Wavelength/cm-1\n",
       "399.826377     920.12424\n",
       "400.183684     949.58885\n",
       "400.540991     974.43201\n",
       "400.898298     976.42822\n",
       "401.255605     957.74480\n",
       "401.612912     968.25625\n",
       "401.970219     980.04833\n",
       "402.327525     965.83739\n",
       "402.684832     946.50614\n",
       "403.042139     928.04176\n",
       "403.399446     937.58873\n",
       "403.756753     935.63720\n",
       "404.114060     921.98788\n",
       "404.471367     942.49125\n",
       "404.828674     936.53572\n",
       "405.185980     899.31653\n",
       "405.543287     884.69126\n",
       "405.900594     901.31367\n",
       "406.257901     920.32358\n",
       "406.615208     904.41368\n",
       "406.972515     891.75432\n",
       "407.329822     908.74112\n",
       "407.687128     929.46987\n",
       "408.044435     946.90700\n",
       "408.401742     949.18385\n",
       "408.759049     933.13856\n",
       "409.116356     929.14019\n",
       "409.473663     937.29385\n",
       "409.830970     926.54712\n",
       "410.188276     912.74790\n",
       "                 ...    \n",
       "3989.688410    997.70712\n",
       "3990.045717    997.46517\n",
       "3990.403024    995.70907\n",
       "3990.760330    996.84396\n",
       "3991.117637    998.03842\n",
       "3991.474944    997.17008\n",
       "3991.832251    996.43128\n",
       "3992.189558    995.31627\n",
       "3992.546865    992.11339\n",
       "3992.904172    991.88434\n",
       "3993.261478    996.75542\n",
       "3993.618785    998.84251\n",
       "3993.976092    996.53395\n",
       "3994.333399    996.01667\n",
       "3994.690706    997.33842\n",
       "3995.048013    997.08008\n",
       "3995.405320    996.10128\n",
       "3995.762626    997.60268\n",
       "3996.119933    999.40542\n",
       "3996.477240    996.16137\n",
       "3996.834547    992.67402\n",
       "3997.191854    993.76733\n",
       "3997.549161    995.18170\n",
       "3997.906468    996.11114\n",
       "3998.263775    994.61892\n",
       "3998.621081    991.94148\n",
       "3998.978388    994.85621\n",
       "3999.335695    997.06163\n",
       "3999.693002    994.83278\n",
       "4000.050309    994.37475\n",
       "Name: % Transmittance, Length: 10077, dtype: float64"
      ]
     },
     "execution_count": 71,
     "metadata": {},
     "output_type": "execute_result"
    }
   ],
   "source": [
    "m_anisaldehyde_1['% Transmittance']*10"
   ]
  },
  {
   "cell_type": "markdown",
   "metadata": {},
   "source": [
    "✏️ Hence, halve each transmittance value in `m_anisaldehyde_1`."
   ]
  },
  {
   "cell_type": "code",
   "execution_count": 72,
   "metadata": {},
   "outputs": [
    {
     "data": {
      "text/plain": [
       "Wavelength/cm-1\n",
       "399.826377     46.006212\n",
       "400.183684     47.479442\n",
       "400.540991     48.721601\n",
       "400.898298     48.821411\n",
       "401.255605     47.887240\n",
       "401.612912     48.412813\n",
       "401.970219     49.002416\n",
       "402.327525     48.291870\n",
       "402.684832     47.325307\n",
       "403.042139     46.402088\n",
       "403.399446     46.879436\n",
       "403.756753     46.781860\n",
       "404.114060     46.099394\n",
       "404.471367     47.124563\n",
       "404.828674     46.826786\n",
       "405.185980     44.965826\n",
       "405.543287     44.234563\n",
       "405.900594     45.065683\n",
       "406.257901     46.016179\n",
       "406.615208     45.220684\n",
       "406.972515     44.587716\n",
       "407.329822     45.437056\n",
       "407.687128     46.473493\n",
       "408.044435     47.345350\n",
       "408.401742     47.459193\n",
       "408.759049     46.656928\n",
       "409.116356     46.457009\n",
       "409.473663     46.864692\n",
       "409.830970     46.327356\n",
       "410.188276     45.637395\n",
       "                 ...    \n",
       "3989.688410    49.885356\n",
       "3990.045717    49.873258\n",
       "3990.403024    49.785453\n",
       "3990.760330    49.842198\n",
       "3991.117637    49.901921\n",
       "3991.474944    49.858504\n",
       "3991.832251    49.821564\n",
       "3992.189558    49.765814\n",
       "3992.546865    49.605669\n",
       "3992.904172    49.594217\n",
       "3993.261478    49.837771\n",
       "3993.618785    49.942126\n",
       "3993.976092    49.826697\n",
       "3994.333399    49.800834\n",
       "3994.690706    49.866921\n",
       "3995.048013    49.854004\n",
       "3995.405320    49.805064\n",
       "3995.762626    49.880134\n",
       "3996.119933    49.970271\n",
       "3996.477240    49.808068\n",
       "3996.834547    49.633701\n",
       "3997.191854    49.688367\n",
       "3997.549161    49.759085\n",
       "3997.906468    49.805557\n",
       "3998.263775    49.730946\n",
       "3998.621081    49.597074\n",
       "3998.978388    49.742810\n",
       "3999.335695    49.853082\n",
       "3999.693002    49.741639\n",
       "4000.050309    49.718738\n",
       "Name: % Transmittance, Length: 10077, dtype: float64"
      ]
     },
     "execution_count": 72,
     "metadata": {},
     "output_type": "execute_result"
    }
   ],
   "source": [
    "m_anisaldehyde_1['% Transmittance']*0.5"
   ]
  },
  {
   "cell_type": "markdown",
   "metadata": {},
   "source": [
    "✏️ Use the `.head()` method to look at the `m_anisaldehyde_1` DataFrame again - have your changes been applied?"
   ]
  },
  {
   "cell_type": "code",
   "execution_count": 73,
   "metadata": {},
   "outputs": [
    {
     "data": {
      "text/html": [
       "<div>\n",
       "<style scoped>\n",
       "    .dataframe tbody tr th:only-of-type {\n",
       "        vertical-align: middle;\n",
       "    }\n",
       "\n",
       "    .dataframe tbody tr th {\n",
       "        vertical-align: top;\n",
       "    }\n",
       "\n",
       "    .dataframe thead th {\n",
       "        text-align: right;\n",
       "    }\n",
       "</style>\n",
       "<table border=\"1\" class=\"dataframe\">\n",
       "  <thead>\n",
       "    <tr style=\"text-align: right;\">\n",
       "      <th></th>\n",
       "      <th>% Transmittance</th>\n",
       "    </tr>\n",
       "    <tr>\n",
       "      <th>Wavelength/cm-1</th>\n",
       "      <th></th>\n",
       "    </tr>\n",
       "  </thead>\n",
       "  <tbody>\n",
       "    <tr>\n",
       "      <th>399.826377</th>\n",
       "      <td>92.012424</td>\n",
       "    </tr>\n",
       "    <tr>\n",
       "      <th>400.183684</th>\n",
       "      <td>94.958885</td>\n",
       "    </tr>\n",
       "    <tr>\n",
       "      <th>400.540991</th>\n",
       "      <td>97.443201</td>\n",
       "    </tr>\n",
       "    <tr>\n",
       "      <th>400.898298</th>\n",
       "      <td>97.642822</td>\n",
       "    </tr>\n",
       "    <tr>\n",
       "      <th>401.255605</th>\n",
       "      <td>95.774480</td>\n",
       "    </tr>\n",
       "  </tbody>\n",
       "</table>\n",
       "</div>"
      ],
      "text/plain": [
       "                 % Transmittance\n",
       "Wavelength/cm-1                 \n",
       "399.826377             92.012424\n",
       "400.183684             94.958885\n",
       "400.540991             97.443201\n",
       "400.898298             97.642822\n",
       "401.255605             95.774480"
      ]
     },
     "execution_count": 73,
     "metadata": {},
     "output_type": "execute_result"
    }
   ],
   "source": [
    "m_anisaldehyde_1.head()"
   ]
  },
  {
   "cell_type": "markdown",
   "metadata": {},
   "source": [
    "You should observe that the original DataFrame is unchanged. This is because the operations that you have been performing are not *in-place* operations, i.e. the original DataFrame was never overwritten."
   ]
  },
  {
   "cell_type": "markdown",
   "metadata": {},
   "source": [
    "✏️ Modify your code so that the `m_anisaldehyde_1` transmittance column is **permanently** halved.\n",
    "\n",
    "*Hint: We can replace a whole column of a DataFrame using `df[\"column name\"]` notation. Setting this equal to a new column/series will overwrite this column.*"
   ]
  },
  {
   "cell_type": "code",
   "execution_count": 77,
   "metadata": {},
   "outputs": [],
   "source": [
    "m_anisaldehyde_1['% Transmittance']=m_anisaldehyde_1['% Transmittance']*0.5"
   ]
  },
  {
   "cell_type": "markdown",
   "metadata": {},
   "source": [
    "✏️ Print the first 5 lines of `m_anisaldehyde_1`. It should look like:\n",
    ">| Wavelength /cm-1      | % Transmittance |\n",
    ">| ----------- | ----------- |\n",
    ">| 399.826377      | 46.006212       |\n",
    ">| 400.183684   | 47.479442        |"
   ]
  },
  {
   "cell_type": "code",
   "execution_count": 79,
   "metadata": {},
   "outputs": [
    {
     "data": {
      "text/html": [
       "<div>\n",
       "<style scoped>\n",
       "    .dataframe tbody tr th:only-of-type {\n",
       "        vertical-align: middle;\n",
       "    }\n",
       "\n",
       "    .dataframe tbody tr th {\n",
       "        vertical-align: top;\n",
       "    }\n",
       "\n",
       "    .dataframe thead th {\n",
       "        text-align: right;\n",
       "    }\n",
       "</style>\n",
       "<table border=\"1\" class=\"dataframe\">\n",
       "  <thead>\n",
       "    <tr style=\"text-align: right;\">\n",
       "      <th></th>\n",
       "      <th>% Transmittance</th>\n",
       "    </tr>\n",
       "    <tr>\n",
       "      <th>Wavelength/cm-1</th>\n",
       "      <th></th>\n",
       "    </tr>\n",
       "  </thead>\n",
       "  <tbody>\n",
       "    <tr>\n",
       "      <th>399.826377</th>\n",
       "      <td>46.006212</td>\n",
       "    </tr>\n",
       "    <tr>\n",
       "      <th>400.183684</th>\n",
       "      <td>47.479442</td>\n",
       "    </tr>\n",
       "    <tr>\n",
       "      <th>400.540991</th>\n",
       "      <td>48.721601</td>\n",
       "    </tr>\n",
       "    <tr>\n",
       "      <th>400.898298</th>\n",
       "      <td>48.821411</td>\n",
       "    </tr>\n",
       "    <tr>\n",
       "      <th>401.255605</th>\n",
       "      <td>47.887240</td>\n",
       "    </tr>\n",
       "  </tbody>\n",
       "</table>\n",
       "</div>"
      ],
      "text/plain": [
       "                 % Transmittance\n",
       "Wavelength/cm-1                 \n",
       "399.826377             46.006212\n",
       "400.183684             47.479442\n",
       "400.540991             48.721601\n",
       "400.898298             48.821411\n",
       "401.255605             47.887240"
      ]
     },
     "execution_count": 79,
     "metadata": {},
     "output_type": "execute_result"
    }
   ],
   "source": [
    "m_anisaldehyde_1.head()"
   ]
  },
  {
   "cell_type": "markdown",
   "metadata": {},
   "source": [
    "---"
   ]
  },
  {
   "cell_type": "markdown",
   "metadata": {},
   "source": [
    "Finally, it is often useful to be able to find the titles of the columns in our DataFrame (once we start importing hundreds of DataFrames, we'll need to give their transmittance columns all different titles, and it will be difficult to keep track of them otherwise).\n",
    "<br>\n",
    "<br>The `columns` attribute gives a list of the column titles of a DataFrame."
   ]
  },
  {
   "cell_type": "markdown",
   "metadata": {},
   "source": [
    "✏️ What does the `columns` attribute show for `m_anisaldehyde_1`?"
   ]
  },
  {
   "cell_type": "code",
   "execution_count": 80,
   "metadata": {},
   "outputs": [
    {
     "data": {
      "text/plain": [
       "Index(['% Transmittance'], dtype='object')"
      ]
     },
     "execution_count": 80,
     "metadata": {},
     "output_type": "execute_result"
    }
   ],
   "source": [
    "m_anisaldehyde_1.columns"
   ]
  },
  {
   "cell_type": "markdown",
   "metadata": {},
   "source": [
    "Although it might appear with some extra decoration, attribute is basically just a list. Thus we can pull the column heading using an appropriate index of `.columns`."
   ]
  },
  {
   "cell_type": "markdown",
   "metadata": {},
   "source": [
    "✏️ By using indexing, pull the *transmittances* column from the m_anisaldehyde_1 DataFrame without explicitly writing out the column title, \"% Transmittance\"."
   ]
  },
  {
   "cell_type": "code",
   "execution_count": 83,
   "metadata": {},
   "outputs": [
    {
     "data": {
      "text/plain": [
       "Wavelength/cm-1\n",
       "399.826377     46.006212\n",
       "400.183684     47.479442\n",
       "400.540991     48.721601\n",
       "400.898298     48.821411\n",
       "401.255605     47.887240\n",
       "401.612912     48.412813\n",
       "401.970219     49.002416\n",
       "402.327525     48.291870\n",
       "402.684832     47.325307\n",
       "403.042139     46.402088\n",
       "403.399446     46.879436\n",
       "403.756753     46.781860\n",
       "404.114060     46.099394\n",
       "404.471367     47.124563\n",
       "404.828674     46.826786\n",
       "405.185980     44.965826\n",
       "405.543287     44.234563\n",
       "405.900594     45.065683\n",
       "406.257901     46.016179\n",
       "406.615208     45.220684\n",
       "406.972515     44.587716\n",
       "407.329822     45.437056\n",
       "407.687128     46.473493\n",
       "408.044435     47.345350\n",
       "408.401742     47.459193\n",
       "408.759049     46.656928\n",
       "409.116356     46.457009\n",
       "409.473663     46.864692\n",
       "409.830970     46.327356\n",
       "410.188276     45.637395\n",
       "                 ...    \n",
       "3989.688410    49.885356\n",
       "3990.045717    49.873258\n",
       "3990.403024    49.785453\n",
       "3990.760330    49.842198\n",
       "3991.117637    49.901921\n",
       "3991.474944    49.858504\n",
       "3991.832251    49.821564\n",
       "3992.189558    49.765814\n",
       "3992.546865    49.605669\n",
       "3992.904172    49.594217\n",
       "3993.261478    49.837771\n",
       "3993.618785    49.942126\n",
       "3993.976092    49.826697\n",
       "3994.333399    49.800834\n",
       "3994.690706    49.866921\n",
       "3995.048013    49.854004\n",
       "3995.405320    49.805064\n",
       "3995.762626    49.880134\n",
       "3996.119933    49.970271\n",
       "3996.477240    49.808068\n",
       "3996.834547    49.633701\n",
       "3997.191854    49.688367\n",
       "3997.549161    49.759085\n",
       "3997.906468    49.805557\n",
       "3998.263775    49.730946\n",
       "3998.621081    49.597074\n",
       "3998.978388    49.742810\n",
       "3999.335695    49.853082\n",
       "3999.693002    49.741639\n",
       "4000.050309    49.718738\n",
       "Name: % Transmittance, Length: 10077, dtype: float64"
      ]
     },
     "execution_count": 83,
     "metadata": {},
     "output_type": "execute_result"
    }
   ],
   "source": [
    "m_anisaldehyde_1[m_anisaldehyde_1.columns[0]]"
   ]
  },
  {
   "cell_type": "markdown",
   "metadata": {},
   "source": [
    "---"
   ]
  }
 ],
 "metadata": {
  "kernelspec": {
   "display_name": "Python 3",
   "language": "python",
   "name": "python3"
  },
  "language_info": {
   "codemirror_mode": {
    "name": "ipython",
    "version": 3
   },
   "file_extension": ".py",
   "mimetype": "text/x-python",
   "name": "python",
   "nbconvert_exporter": "python",
   "pygments_lexer": "ipython3",
   "version": "3.7.3"
  }
 },
 "nbformat": 4,
 "nbformat_minor": 5
}
