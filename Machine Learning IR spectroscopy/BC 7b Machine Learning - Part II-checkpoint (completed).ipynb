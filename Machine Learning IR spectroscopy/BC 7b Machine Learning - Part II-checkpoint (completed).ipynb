{
 "cells": [
  {
   "cell_type": "markdown",
   "metadata": {},
   "source": [
    "# 7b Machine Learning - Part II"
   ]
  },
  {
   "cell_type": "markdown",
   "metadata": {},
   "source": [
    "In this final part of the exercise, you will attempt to use a trained k-nearest neighbours model to identify the substitution of an unknown benzene derivative. In particular you are provided with two isomers of aminobenzoic acid.\n",
    "<br>\n",
    "<br>To begin with this task, you will need to collect some spectra of your own. You may wish to collect data specifically for isomer *x* or *y*, or you may collect data for both.\n",
    "<br>\n",
    "<br>Data should be collected using the left-most IR spectrometry in the 1st year (downstairs) lab - all other spectral data were acquired using this instrument.\n",
    "<br>\n",
    "<br>For each isomer you investigate, you will need to collect 5 repeated spectra, cleaning the stage throughouly with isopropanol between collections.\n",
    "<br>\n",
    "<br>The following data collection parameters should be employed:"
   ]
  },
  {
   "cell_type": "markdown",
   "metadata": {},
   "source": [
    "| Parameter | Value |\n",
    "| :-------: | :---: |\n",
    "| Measurement Mode | % Transmittance |\n",
    "| Apodization | Happ-Genzel |\n",
    "| No. of Scans | 10 |\n",
    "| Resolution/cm-1 | 0.9 |\n",
    "| Range/cm-1 | 400 - 4000 |"
   ]
  },
  {
   "cell_type": "markdown",
   "metadata": {},
   "source": [
    "Each spectrum should be exported from the software as a .txt file (*File* --> *Export*). It is recommended that you use the same systematic naming convention employed in the original spectral library."
   ]
  },
  {
   "cell_type": "markdown",
   "metadata": {},
   "source": [
    "---"
   ]
  },
  {
   "cell_type": "markdown",
   "metadata": {},
   "source": [
    "Now that you have your own data to be identified, the entire original spectral library can be used as a training dataset for the k-nearest neighbours algorithm, with your own acquired data constituting the smaller test dataset."
   ]
  },
  {
   "cell_type": "markdown",
   "metadata": {},
   "source": [
    "✏️ Import all the libraries you've been using throughout the exercise, including your C317 library."
   ]
  },
  {
   "cell_type": "code",
   "execution_count": 202,
   "metadata": {},
   "outputs": [],
   "source": [
    "from C317 import *"
   ]
  },
  {
   "cell_type": "markdown",
   "metadata": {},
   "source": [
    "✏️ Load in a DataFrame of the original spectral data, with **no** PCA applied and with all repeated column headings the same.\n",
    "<br>\n",
    "<br>**Note:** If you did not do this earlier, you may need to change the code in your library slightly to allow for no PCA to be an option (do not just delete the PCA code!)."
   ]
  },
  {
   "cell_type": "code",
   "execution_count": 192,
   "metadata": {},
   "outputs": [
    {
     "data": {
      "text/html": [
       "<div>\n",
       "<style scoped>\n",
       "    .dataframe tbody tr th:only-of-type {\n",
       "        vertical-align: middle;\n",
       "    }\n",
       "\n",
       "    .dataframe tbody tr th {\n",
       "        vertical-align: top;\n",
       "    }\n",
       "\n",
       "    .dataframe thead th {\n",
       "        text-align: right;\n",
       "    }\n",
       "</style>\n",
       "<table border=\"1\" class=\"dataframe\">\n",
       "  <thead>\n",
       "    <tr style=\"text-align: right;\">\n",
       "      <th></th>\n",
       "      <th>C</th>\n",
       "      <th>C</th>\n",
       "      <th>C</th>\n",
       "      <th>C</th>\n",
       "      <th>C</th>\n",
       "      <th>Y</th>\n",
       "      <th>Y</th>\n",
       "      <th>Y</th>\n",
       "      <th>Y</th>\n",
       "      <th>Y</th>\n",
       "    </tr>\n",
       "  </thead>\n",
       "  <tbody>\n",
       "    <tr>\n",
       "      <th>630</th>\n",
       "      <td>0.000231</td>\n",
       "      <td>0.000226</td>\n",
       "      <td>0.000227</td>\n",
       "      <td>0.000227</td>\n",
       "      <td>0.000218</td>\n",
       "      <td>0.000277</td>\n",
       "      <td>0.000277</td>\n",
       "      <td>0.000279</td>\n",
       "      <td>0.000279</td>\n",
       "      <td>0.000280</td>\n",
       "    </tr>\n",
       "    <tr>\n",
       "      <th>631</th>\n",
       "      <td>0.000230</td>\n",
       "      <td>0.000226</td>\n",
       "      <td>0.000226</td>\n",
       "      <td>0.000226</td>\n",
       "      <td>0.000218</td>\n",
       "      <td>0.000277</td>\n",
       "      <td>0.000277</td>\n",
       "      <td>0.000279</td>\n",
       "      <td>0.000279</td>\n",
       "      <td>0.000279</td>\n",
       "    </tr>\n",
       "    <tr>\n",
       "      <th>632</th>\n",
       "      <td>0.000230</td>\n",
       "      <td>0.000226</td>\n",
       "      <td>0.000226</td>\n",
       "      <td>0.000226</td>\n",
       "      <td>0.000217</td>\n",
       "      <td>0.000277</td>\n",
       "      <td>0.000277</td>\n",
       "      <td>0.000279</td>\n",
       "      <td>0.000278</td>\n",
       "      <td>0.000279</td>\n",
       "    </tr>\n",
       "    <tr>\n",
       "      <th>633</th>\n",
       "      <td>0.000230</td>\n",
       "      <td>0.000226</td>\n",
       "      <td>0.000226</td>\n",
       "      <td>0.000226</td>\n",
       "      <td>0.000217</td>\n",
       "      <td>0.000277</td>\n",
       "      <td>0.000277</td>\n",
       "      <td>0.000279</td>\n",
       "      <td>0.000279</td>\n",
       "      <td>0.000279</td>\n",
       "    </tr>\n",
       "    <tr>\n",
       "      <th>634</th>\n",
       "      <td>0.000230</td>\n",
       "      <td>0.000226</td>\n",
       "      <td>0.000226</td>\n",
       "      <td>0.000226</td>\n",
       "      <td>0.000217</td>\n",
       "      <td>0.000277</td>\n",
       "      <td>0.000278</td>\n",
       "      <td>0.000279</td>\n",
       "      <td>0.000279</td>\n",
       "      <td>0.000279</td>\n",
       "    </tr>\n",
       "  </tbody>\n",
       "</table>\n",
       "</div>"
      ],
      "text/plain": [
       "            C         C         C         C         C         Y         Y  \\\n",
       "630  0.000231  0.000226  0.000227  0.000227  0.000218  0.000277  0.000277   \n",
       "631  0.000230  0.000226  0.000226  0.000226  0.000218  0.000277  0.000277   \n",
       "632  0.000230  0.000226  0.000226  0.000226  0.000217  0.000277  0.000277   \n",
       "633  0.000230  0.000226  0.000226  0.000226  0.000217  0.000277  0.000277   \n",
       "634  0.000230  0.000226  0.000226  0.000226  0.000217  0.000277  0.000278   \n",
       "\n",
       "            Y         Y         Y  \n",
       "630  0.000279  0.000279  0.000280  \n",
       "631  0.000279  0.000279  0.000279  \n",
       "632  0.000279  0.000278  0.000279  \n",
       "633  0.000279  0.000279  0.000279  \n",
       "634  0.000279  0.000279  0.000279  "
      ]
     },
     "execution_count": 192,
     "metadata": {},
     "output_type": "execute_result"
    }
   ],
   "source": [
    "load_spectra(20,1)"
   ]
  },
  {
   "cell_type": "markdown",
   "metadata": {},
   "source": [
    "✏️ In the same way, load in your collected data, and put it into a separate DataFrame. Process it in exactly the same way as the original data."
   ]
  },
  {
   "cell_type": "code",
   "execution_count": 194,
   "metadata": {},
   "outputs": [
    {
     "data": {
      "text/html": [
       "<div>\n",
       "<style scoped>\n",
       "    .dataframe tbody tr th:only-of-type {\n",
       "        vertical-align: middle;\n",
       "    }\n",
       "\n",
       "    .dataframe tbody tr th {\n",
       "        vertical-align: top;\n",
       "    }\n",
       "\n",
       "    .dataframe thead th {\n",
       "        text-align: right;\n",
       "    }\n",
       "</style>\n",
       "<table border=\"1\" class=\"dataframe\">\n",
       "  <thead>\n",
       "    <tr style=\"text-align: right;\">\n",
       "      <th></th>\n",
       "      <th>C</th>\n",
       "      <th>C</th>\n",
       "      <th>C</th>\n",
       "      <th>C</th>\n",
       "      <th>C</th>\n",
       "      <th>Y</th>\n",
       "      <th>Y</th>\n",
       "      <th>Y</th>\n",
       "      <th>Y</th>\n",
       "      <th>Y</th>\n",
       "    </tr>\n",
       "  </thead>\n",
       "  <tbody>\n",
       "    <tr>\n",
       "      <th>630</th>\n",
       "      <td>0.000231</td>\n",
       "      <td>0.000226</td>\n",
       "      <td>0.000227</td>\n",
       "      <td>0.000227</td>\n",
       "      <td>0.000218</td>\n",
       "      <td>0.000277</td>\n",
       "      <td>0.000277</td>\n",
       "      <td>0.000279</td>\n",
       "      <td>0.000279</td>\n",
       "      <td>0.000280</td>\n",
       "    </tr>\n",
       "    <tr>\n",
       "      <th>631</th>\n",
       "      <td>0.000230</td>\n",
       "      <td>0.000226</td>\n",
       "      <td>0.000226</td>\n",
       "      <td>0.000226</td>\n",
       "      <td>0.000218</td>\n",
       "      <td>0.000277</td>\n",
       "      <td>0.000277</td>\n",
       "      <td>0.000279</td>\n",
       "      <td>0.000279</td>\n",
       "      <td>0.000279</td>\n",
       "    </tr>\n",
       "    <tr>\n",
       "      <th>632</th>\n",
       "      <td>0.000230</td>\n",
       "      <td>0.000226</td>\n",
       "      <td>0.000226</td>\n",
       "      <td>0.000226</td>\n",
       "      <td>0.000217</td>\n",
       "      <td>0.000277</td>\n",
       "      <td>0.000277</td>\n",
       "      <td>0.000279</td>\n",
       "      <td>0.000278</td>\n",
       "      <td>0.000279</td>\n",
       "    </tr>\n",
       "    <tr>\n",
       "      <th>633</th>\n",
       "      <td>0.000230</td>\n",
       "      <td>0.000226</td>\n",
       "      <td>0.000226</td>\n",
       "      <td>0.000226</td>\n",
       "      <td>0.000217</td>\n",
       "      <td>0.000277</td>\n",
       "      <td>0.000277</td>\n",
       "      <td>0.000279</td>\n",
       "      <td>0.000279</td>\n",
       "      <td>0.000279</td>\n",
       "    </tr>\n",
       "    <tr>\n",
       "      <th>634</th>\n",
       "      <td>0.000230</td>\n",
       "      <td>0.000226</td>\n",
       "      <td>0.000226</td>\n",
       "      <td>0.000226</td>\n",
       "      <td>0.000217</td>\n",
       "      <td>0.000277</td>\n",
       "      <td>0.000278</td>\n",
       "      <td>0.000279</td>\n",
       "      <td>0.000279</td>\n",
       "      <td>0.000279</td>\n",
       "    </tr>\n",
       "  </tbody>\n",
       "</table>\n",
       "</div>"
      ],
      "text/plain": [
       "            C         C         C         C         C         Y         Y  \\\n",
       "630  0.000231  0.000226  0.000227  0.000227  0.000218  0.000277  0.000277   \n",
       "631  0.000230  0.000226  0.000226  0.000226  0.000218  0.000277  0.000277   \n",
       "632  0.000230  0.000226  0.000226  0.000226  0.000217  0.000277  0.000277   \n",
       "633  0.000230  0.000226  0.000226  0.000226  0.000217  0.000277  0.000277   \n",
       "634  0.000230  0.000226  0.000226  0.000226  0.000217  0.000277  0.000278   \n",
       "\n",
       "            Y         Y         Y  \n",
       "630  0.000279  0.000279  0.000280  \n",
       "631  0.000279  0.000279  0.000279  \n",
       "632  0.000279  0.000278  0.000279  \n",
       "633  0.000279  0.000279  0.000279  \n",
       "634  0.000279  0.000279  0.000279  "
      ]
     },
     "execution_count": 194,
     "metadata": {},
     "output_type": "execute_result"
    }
   ],
   "source": [
    "load_new_spectra(0,1).head()"
   ]
  },
  {
   "cell_type": "markdown",
   "metadata": {},
   "source": [
    "✏️ Just as you did before, extract the appropriate labels (o/m/p) from the original spectral data and store them in a list."
   ]
  },
  {
   "cell_type": "code",
   "execution_count": null,
   "metadata": {},
   "outputs": [],
   "source": [
    "labels=[name[0] for name in load_spectra(0,1)]"
   ]
  },
  {
   "cell_type": "markdown",
   "metadata": {},
   "source": [
    "✏️ Using the the entire original spectral DataFrame and the labels you have extracted, train a k-NN model (do not include your personally collected data)."
   ]
  },
  {
   "cell_type": "code",
   "execution_count": 196,
   "metadata": {},
   "outputs": [],
   "source": [
    "MachineLearn(load_spectra(20,1),1,3,return_obj=False)"
   ]
  },
  {
   "cell_type": "markdown",
   "metadata": {},
   "source": [
    "✏️ Now use the `predict()` method of the trained `KNeighborsClassifier` object to attempt to classify your personally acquired spectra. Consult with a demonstrator to determine if your classification has been succesful."
   ]
  },
  {
   "cell_type": "code",
   "execution_count": 201,
   "metadata": {},
   "outputs": [
    {
     "data": {
      "text/plain": [
       "array(['p', 'p', 'p', 'p', 'p'], dtype='<U1')"
      ]
     },
     "execution_count": 201,
     "metadata": {},
     "output_type": "execute_result"
    }
   ],
   "source": [
    "MachineLearn(load_spectra(10,1),1,3,return_obj=True).predict(load_new_spectra(10,1)['C'].T)\n",
    "MachineLearn(load_spectra(10,1),1,3,return_obj=True).predict(load_new_spectra(10,1)['Y'].T) \n",
    "#Machine learning predicts that 'C' is ortho and incorrectly predicts 'Y' is para (due to large spread in meta data)"
   ]
  },
  {
   "cell_type": "markdown",
   "metadata": {},
   "source": [
    "---"
   ]
  },
  {
   "cell_type": "markdown",
   "metadata": {},
   "source": [
    "### Post-Lab"
   ]
  },
  {
   "cell_type": "markdown",
   "metadata": {},
   "source": [
    "To submit your work, please save all completed notebooks and add them into a single .zip folder.\n",
    "<br>\n",
    "<br>Upload this .zip folder to Canvas to evidence completion of the exercise."
   ]
  },
  {
   "cell_type": "markdown",
   "metadata": {},
   "source": [
    "In addition, please complete the post-lab quiz and questionnaire which can be found alongside this exercise on Canvas. All feedback is welcome.\n",
    "<br>\n",
    "<br>Both an uploaded .zip folder and a completed post-lab quiz are required for credit to be awarded for this exercise."
   ]
  },
  {
   "cell_type": "markdown",
   "metadata": {},
   "source": [
    "---"
   ]
  }
 ],
 "metadata": {
  "kernelspec": {
   "display_name": "Python 3",
   "language": "python",
   "name": "python3"
  },
  "language_info": {
   "codemirror_mode": {
    "name": "ipython",
    "version": 3
   },
   "file_extension": ".py",
   "mimetype": "text/x-python",
   "name": "python",
   "nbconvert_exporter": "python",
   "pygments_lexer": "ipython3",
   "version": "3.7.3"
  }
 },
 "nbformat": 4,
 "nbformat_minor": 5
}
